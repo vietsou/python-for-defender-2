{
 "cells": [
  {
   "cell_type": "markdown",
   "id": "f2bb94c9-80ef-435c-bab2-d200f6ab0389",
   "metadata": {},
   "source": [
    "# 2-4: Lab - File Hash Generator\n",
    "\n",
    "Now that we have some of these widgets in our toolbelt, we're ready to make our first real tool: a file hash generator! Is it a little contrived: maybe, but we can build this in such a way that it'll be pretty useful. \n",
    "\n",
    "## Features\n",
    "\n",
    "Our generator will be able to:\n",
    "\n",
    "* Accept multiple files\n",
    "* Show MD5, SHA1, SHA256, and SHA512 hashes all at once\n",
    "* Display results in a clean manner\n",
    "\n",
    "Not so bad, really. Even though there are command line tools that do this, a little user interface ergonomics goes a long way.\n"
   ]
  },
  {
   "cell_type": "markdown",
   "id": "4240ab15-cd44-4d82-b646-ea8694d2c4be",
   "metadata": {},
   "source": [
    "---\n",
    "## IMPORTANT\n",
    "\n",
    "**_Note: This is the first Lab of Part 2. The BEST WAY to use this Notebook is to recreate the tool in your own Notebook. Use this as a guide, but produce the working tool for yourself!_**\n",
    "\n",
    "---"
   ]
  },
  {
   "cell_type": "markdown",
   "id": "4e6c85b5-79c7-46cc-9c4c-af75f0e07782",
   "metadata": {},
   "source": [
    "## File Hashes in Python\n",
    "\n",
    "If you're in this course, there's a reasonable expectation that you're familiar with the general concept of file hashes. If you need a refresher, check out [this article from SentinelOne](https://www.sentinelone.com/cybersecurity-101/hashing/).\n",
    "\n",
    "To make hashes in Python, we have to use the `hashlib` module. Let's import it and start playing with it."
   ]
  },
  {
   "cell_type": "code",
   "execution_count": 1,
   "id": "12edea7a-55a6-4401-a872-a2aa108627df",
   "metadata": {},
   "outputs": [],
   "source": [
    "import hashlib"
   ]
  },
  {
   "cell_type": "markdown",
   "id": "787336a3-0c27-4e49-851f-d6e048dcfb4d",
   "metadata": {},
   "source": [
    "`hashlib` is a very powerful module, but let's dig down into the `sha256` function first."
   ]
  },
  {
   "cell_type": "code",
   "execution_count": 2,
   "id": "acb62386-92a3-4d5d-ad22-29568274d828",
   "metadata": {},
   "outputs": [
    {
     "data": {
      "text/plain": [
       "\u001b[0;31mSignature:\u001b[0m \u001b[0mhashlib\u001b[0m\u001b[0;34m.\u001b[0m\u001b[0msha256\u001b[0m\u001b[0;34m(\u001b[0m\u001b[0mstring\u001b[0m\u001b[0;34m=\u001b[0m\u001b[0;34mb''\u001b[0m\u001b[0;34m)\u001b[0m\u001b[0;34m\u001b[0m\u001b[0;34m\u001b[0m\u001b[0m\n",
       "\u001b[0;31mDocstring:\u001b[0m Returns a sha256 hash object; optionally initialized with a string\n",
       "\u001b[0;31mType:\u001b[0m      builtin_function_or_method\n"
      ]
     },
     "metadata": {},
     "output_type": "display_data"
    }
   ],
   "source": [
    "hashlib.sha256?"
   ]
  },
  {
   "cell_type": "markdown",
   "id": "65d359f2-d607-41dd-a5b4-e833adf68cde",
   "metadata": {},
   "source": [
    "Okay, so it returns a \"hash object,\" whatever that is. And we can give it a string (actually a bytestring) to kick it off. We'll use the string `Python Rocks!` for our test.\n",
    "\n",
    "Before we do the Python version of this, let's use Jupyter's shell superpowers to get the Linux command line version for reference:"
   ]
  },
  {
   "cell_type": "code",
   "execution_count": 3,
   "id": "7b55c383-a37a-4f7d-afc1-d50c924f7390",
   "metadata": {},
   "outputs": [
    {
     "name": "stdout",
     "output_type": "stream",
     "text": [
      "cdd27069c147c505228e7ee63f6b926a8f7a9b90fe48e48ffc1ac5f054715d8d  -\n"
     ]
    }
   ],
   "source": [
    "# Use Jupyter's ability to run shell commands to get the sha256 hash of our test string\n",
    "! echo -n \"Python Rocks!\" | sha256sum"
   ]
  },
  {
   "cell_type": "markdown",
   "id": "e65af483-8093-4723-b09e-cd66b9125a29",
   "metadata": {},
   "source": [
    "Cool. Now let's try the same thing with Python. Don't forget, we need to use a `bytes` object, so watch for that `b\"\"` syntax."
   ]
  },
  {
   "cell_type": "code",
   "execution_count": 4,
   "id": "bc26231b-eb05-4ebc-bffd-efcb3fac4da9",
   "metadata": {},
   "outputs": [
    {
     "data": {
      "text/plain": [
       "<sha256 HASH object @ 0x7f3db4340950>"
      ]
     },
     "execution_count": 4,
     "metadata": {},
     "output_type": "execute_result"
    }
   ],
   "source": [
    "# Hashing, Python style\n",
    "test_hash = hashlib.sha256(b\"Python Rocks!\")\n",
    "test_hash"
   ]
  },
  {
   "cell_type": "markdown",
   "id": "4b843d36-a045-44f9-851b-00b71bacb5a6",
   "metadata": {},
   "source": [
    "Uh, what.\n",
    "\n",
    "Okay so we got back the `HASH object`, but that doesn't actually tell us anything useful. Let's inspect the object a bit more."
   ]
  },
  {
   "cell_type": "code",
   "execution_count": 5,
   "id": "ae15ec58-9954-4650-bd53-8dfa497ed970",
   "metadata": {},
   "outputs": [
    {
     "data": {
      "text/plain": [
       "\u001b[0;31mType:\u001b[0m        HASH\n",
       "\u001b[0;31mString form:\u001b[0m <sha256 HASH object @ 0x7f3db4340950>\n",
       "\u001b[0;31mFile:\u001b[0m        /usr/lib/python3.8/lib-dynload/_hashlib.cpython-38-x86_64-linux-gnu.so\n",
       "\u001b[0;31mDocstring:\u001b[0m  \n",
       "A hash is an object used to calculate a checksum of a string of information.\n",
       "\n",
       "Methods:\n",
       "\n",
       "update() -- updates the current digest with an additional string\n",
       "digest() -- return the current digest value\n",
       "hexdigest() -- return the current digest as a string of hexadecimal digits\n",
       "copy() -- return a copy of the current hash object\n",
       "\n",
       "Attributes:\n",
       "\n",
       "name -- the hash algorithm being used by this object\n",
       "digest_size -- number of bytes in this hashes output\n"
      ]
     },
     "metadata": {},
     "output_type": "display_data"
    }
   ],
   "source": [
    "test_hash?"
   ]
  },
  {
   "cell_type": "markdown",
   "id": "83a75493-9c6c-4cd0-b84a-424d4a16f8e1",
   "metadata": {},
   "source": [
    "The two methods that look promising for our purposes are `digest()` and `hexdigest()`. If you look closely at the result of the Linux `sha256sum` command, the characters are all hexademical digits. That should be a hint as to which one we want here."
   ]
  },
  {
   "cell_type": "code",
   "execution_count": 6,
   "id": "8e20d26a-e055-429c-9024-1d45861aad28",
   "metadata": {},
   "outputs": [
    {
     "data": {
      "text/plain": [
       "'cdd27069c147c505228e7ee63f6b926a8f7a9b90fe48e48ffc1ac5f054715d8d'"
      ]
     },
     "execution_count": 6,
     "metadata": {},
     "output_type": "execute_result"
    }
   ],
   "source": [
    "# Get the proper value from our hash object\n",
    "test_hash.hexdigest()"
   ]
  },
  {
   "cell_type": "markdown",
   "id": "8709a259-43ae-446e-871a-39a0a35bebbf",
   "metadata": {},
   "source": [
    "Look at that! Our `hexdigest()` matches! Now that we know how to generate hashes, the next step is to upload some files. I've provided 2 sample files here for you to play with."
   ]
  },
  {
   "cell_type": "markdown",
   "id": "565bf4a6-1e14-4746-bf23-149adbbe8999",
   "metadata": {},
   "source": [
    "## Upload Files\n",
    "\n",
    "To make the file uploading easy, let's provide an upload widget. And of course, import the required modules.\n",
    "\n",
    "We're also going to use a nice HBox widget for clean layout of the upload and the label."
   ]
  },
  {
   "cell_type": "code",
   "execution_count": 7,
   "id": "04e55922-08fd-4b1f-8e28-e03c2c13bf05",
   "metadata": {},
   "outputs": [],
   "source": [
    "# It's importin' time\n",
    "from IPython.display import display\n",
    "import ipywidgets as widgets"
   ]
  },
  {
   "cell_type": "code",
   "execution_count": 8,
   "id": "f5658e65-ebd3-46c5-aea6-1acbe0cc97e6",
   "metadata": {},
   "outputs": [
    {
     "data": {
      "application/vnd.jupyter.widget-view+json": {
       "model_id": "1f8f39055d004ebf82f7098be64b0b54",
       "version_major": 2,
       "version_minor": 0
      },
      "text/plain": [
       "HBox(children=(Label(value='Upload sample files here 👉'), FileUpload(value={}, description='Upload', multiple=…"
      ]
     },
     "metadata": {},
     "output_type": "display_data"
    }
   ],
   "source": [
    "upload = widgets.FileUpload(multiple=True)\n",
    "label = widgets.Label(value=\"Upload sample files here 👉\")\n",
    "hbox = widgets.HBox([label, upload])\n",
    "display(hbox)"
   ]
  },
  {
   "cell_type": "markdown",
   "id": "4bc56cfa-6d78-4b7a-ae82-7df362b94822",
   "metadata": {},
   "source": [
    "## Generate Hashes\n",
    "\n",
    "With the files uploaded, we can generate hashes for each. There are lot of ways to write this code. Given that we'll need the same data—md5, sha1, sha256, and sha512 hashes—for each file, my move would be to write a `generate_hashes()` function. The function will return a `dict` with hash types as keys, to make our results easy to work with.\n",
    "\n",
    "I'm going to write this function in a very me style, meaning the code will balance succinctness with readability, but try to minimize intermediate variables. You do not have to write this way."
   ]
  },
  {
   "cell_type": "code",
   "execution_count": 13,
   "id": "6cb8adf5-c5b1-4edc-b82b-b7412719ec3e",
   "metadata": {},
   "outputs": [],
   "source": [
    "# Define the `generate_hashes()` function\n",
    "\n",
    "def generate_hashes(sample: bytes) -> dict:\n",
    "    \"\"\"\n",
    "    Generates a dict of hashes for a given bytes sample\n",
    "    \"\"\"\n",
    "    return {\n",
    "        \"md5\": hashlib.md5(sample).hexdigest(),\n",
    "        \"sha1\": hashlib.sha1(sample).hexdigest(),\n",
    "        \"sha256\": hashlib.sha256(sample).hexdigest(),\n",
    "        \"sha512\": hashlib.sha512(sample).hexdigest()\n",
    "    }"
   ]
  },
  {
   "cell_type": "markdown",
   "id": "93774df4-af3a-4c13-998e-2fbb79742242",
   "metadata": {},
   "source": [
    "With the function defined and our files uploaded, all we need is some code to grab the hashes. We'll once more take advantage of nested dictionaries.\n",
    "\n",
    "Now, we can do this with a `for` loop, but we can actually expand on a trick we already know. We've seen that list comprehensions are a fast way to make a new list from an existing list. Well, turns out there is also a **dictionary comprehension** that allows us to create new dictionaries from existing ones! Since we have a dictionary from the Upload widget, we can take advantage of this trick to quickly generate a new `dict` with filenames as top-level keys, and the result of `generate_hashes()` as the values for each.\n",
    "\n",
    "To get the right data shape for this, we use the `dict`'s `items()` method, which provides a sequence of tuples of shape (`key`, `value`) for each item in the `dict`. We can then use those values in our comprehension."
   ]
  },
  {
   "cell_type": "code",
   "execution_count": 14,
   "id": "267b59bb-ea71-4972-9bae-d19bd4ac4731",
   "metadata": {},
   "outputs": [
    {
     "data": {
      "text/plain": [
       "{'sample1.txt': {'md5': 'e67cd331daa87239146e4afaf3d69ac8',\n",
       "  'sha1': 'cf3ee3ce9fa7253696b5f7842fc69cd42b3bae28',\n",
       "  'sha256': '0cad09131647a67e01b375256a12c9a0f2dd873f1c26a108d4892568e6d090f9',\n",
       "  'sha512': '451b34b767db21d3e67775cdc551b7db551b357f16a5afa82862c94a187f592ee35cf21c889891b16e37c9108b624c7e8bea01ccaa97e050c053b036251d20f5'},\n",
       " 'sample2.txt': {'md5': 'cd04056c642acae6b3f2ecb374942b23',\n",
       "  'sha1': '948aa9dcf70d210df148d15c46cea8c80c2c0d10',\n",
       "  'sha256': '434f683d55641f3e12e7227576af353a1913ecd0a2d4b4be53d9ef86376619b3',\n",
       "  'sha512': 'fe8e07b02948dce19bdb34f2663133498512223f1629a0462fa7c176e4a0cf0d7902044102afe424270300e373170b6b368ff507fec48bcd52cebdb310f22102'}}"
      ]
     },
     "execution_count": 14,
     "metadata": {},
     "output_type": "execute_result"
    }
   ],
   "source": [
    "# Quickly make our file_hashes with a dict comprehension\n",
    "file_hashes: dict = { key: generate_hashes(value[\"content\"]) for (key,value) in upload.value.items() }\n",
    "file_hashes"
   ]
  },
  {
   "cell_type": "markdown",
   "id": "3f9b1ee1-6cec-454a-aec8-86508b99c41b",
   "metadata": {},
   "source": [
    "Rad, so we have our hashes! Now, how to display them? Ideally I'd want a nice clean table. Luckily, there is an HTML widget that will allow us to create just such a thing.\n",
    "\n",
    "As a refresher, HTML tables are structured like so:\n",
    "\n",
    "```html\n",
    "<table>\n",
    "    <tr>\n",
    "        <th>Column Header 1</th>\n",
    "        <th>Column Header 2</th>\n",
    "    </tr>\n",
    "    <tr>\n",
    "        <td>Table cell</td>\n",
    "        <td>Table cell</td>\n",
    "    </tr>\n",
    "</table>\n",
    "```\n",
    "\n",
    "We can build up our table with the power of string concatenation. We'll loop over the keys in `file_hashes` to get our data."
   ]
  },
  {
   "cell_type": "code",
   "execution_count": 15,
   "id": "c9fbb828-4426-4c26-ae60-29aa41379fdb",
   "metadata": {},
   "outputs": [],
   "source": [
    "# Build our HTML table\n",
    "\n",
    "table = \"<table>\"\n",
    "table += \"<tr><th>File Name</th><th>MD5</th><th>SHA1</th><th>SHA256</th><th>SHA512</th>\"\n",
    "\n",
    "# Use a loop over file_hashes to access what we need and add to the table\n",
    "for f in file_hashes:\n",
    "    table += f\"<tr><td>{f}</td>\"\n",
    "    # Use another loop for the hashes\n",
    "    # Note we access the dict with the key `f`\n",
    "    for h in file_hashes[f]:\n",
    "        hash = file_hashes[f][h]\n",
    "        table += f\"<td>{hash}</td>\"\n",
    "    table += \"</tr>\"\n",
    "table += \"</table>\""
   ]
  },
  {
   "cell_type": "markdown",
   "id": "712556a4-344b-494d-9f08-d1144d237c4e",
   "metadata": {},
   "source": [
    "Widget time! Let's display our hard work with an HTML widget:"
   ]
  },
  {
   "cell_type": "code",
   "execution_count": 16,
   "id": "eba9f72b-4d0f-4d78-a448-0e5aef264638",
   "metadata": {},
   "outputs": [
    {
     "data": {
      "application/vnd.jupyter.widget-view+json": {
       "model_id": "41e4f62074b6489cbbdcf357808db77f",
       "version_major": 2,
       "version_minor": 0
      },
      "text/plain": [
       "HTML(value='<table><tr><th>File Name</th><th>MD5</th><th>SHA1</th><th>SHA256</th><th>SHA512</th><tr><td>sample…"
      ]
     },
     "metadata": {},
     "output_type": "display_data"
    }
   ],
   "source": [
    "html = widgets.HTML(value=table)\n",
    "display(html)"
   ]
  },
  {
   "cell_type": "markdown",
   "id": "0d705984-e329-4dc0-a047-f6580883b1a7",
   "metadata": {},
   "source": [
    "And that's it! You can of course add some `<style>` in there to change up the appearance. But you now have a file hash generator that will create multiple hash types for as many files at once as you like!"
   ]
  }
 ],
 "metadata": {
  "kernelspec": {
   "display_name": "Python 3 (ipykernel)",
   "language": "python",
   "name": "python3"
  },
  "language_info": {
   "codemirror_mode": {
    "name": "ipython",
    "version": 3
   },
   "file_extension": ".py",
   "mimetype": "text/x-python",
   "name": "python",
   "nbconvert_exporter": "python",
   "pygments_lexer": "ipython3",
   "version": "3.10.6"
  }
 },
 "nbformat": 4,
 "nbformat_minor": 5
}
