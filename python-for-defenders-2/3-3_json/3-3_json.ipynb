{
 "cells": [
  {
   "cell_type": "markdown",
   "id": "2a7e9561-a931-4d2c-9b92-c994f882801a",
   "metadata": {},
   "source": [
    "# 3-3: JSON\n",
    "\n",
    "**J**ava**S**cript **O**bject **N**otation is a common format for transmitting data over web APIs. Much like `dict`s, they are key-value pairs. In fact, Python's `json` modules takes advantage of this symmetry to easily read/write JSON data!\n",
    "\n",
    "Now, instead of recreating a new sample file, why not use the one we already had from the last section? Let's reuse the `csv` module to import the IOCs as `dict`s."
   ]
  },
  {
   "cell_type": "code",
   "execution_count": 3,
   "id": "c9c8bcae-ab12-478d-acfe-ebaef5ff7ac8",
   "metadata": {},
   "outputs": [
    {
     "data": {
      "text/plain": [
       "{'Indicator': '5.255.99[.]59',\n",
       " 'Type': 'IP',\n",
       " 'Ransomware Family': 'Vice Society'}"
      ]
     },
     "execution_count": 3,
     "metadata": {},
     "output_type": "execute_result"
    }
   ],
   "source": [
    "# Produce a handy sample data set with the file from the last lesson\n",
    "import csv\n",
    "\n",
    "# Grab the file from the previous section. It's my course; I'll do what I want\n",
    "with open(\"../3-2_csvs/ransomware_iocs.csv\") as f:\n",
    "    reader = csv.DictReader(f)\n",
    "    iocs: [dict] = [i for i in reader]\n",
    "\n",
    "# Show a sample\n",
    "iocs[0]"
   ]
  },
  {
   "cell_type": "markdown",
   "id": "f9a15f92-c559-48ce-a65d-7c3fdc5844e8",
   "metadata": {},
   "source": [
    "With the IoCs imported as `dict`s, we can easily make JSON out of them. We'll start by using `json`'s `dumps` function, which produces a string representation of a JSON-able object. Our `iocs` list absolutely qualifies."
   ]
  },
  {
   "cell_type": "code",
   "execution_count": 6,
   "id": "c895424a-7ef8-42ed-af42-27dfc4f2b5c6",
   "metadata": {},
   "outputs": [
    {
     "data": {
      "text/plain": [
       "'[{\"Indicator\": \"5.255.99[.]59\", \"Type\": \"IP\", \"Ransomware Family\": \"Vice Society\"}, {\"Indicator\": \"5.161.136[.]176\", \"Type\": \"IP\", \"Ransomware Family\": \"Vice Society\"}, {\"Indicator\": \"198.252.98[.]184\", \"Type\": \"IP\", \"Ransomware Family\": \"Vice Society\"}, {\"Indicator\": \"194.34.246[.]90\", \"Type\": \"IP\", \"Ransomware Family\": \"Vice Society\"}, {\"Indicator\": \"a0ee0761602470e24bcea5f403e8d1e8bfa29832\", \"Type\": \"SHA1\", \"Ransomware Family\": \"Vice Society\"}, {\"Indicator\": \"3122ea585623531df2e860e7d0df0f25cce39b21\", \"Type\": \"SHA1\", \"Ransomware Family\": \"Vice Society\"}, {\"Indicator\": \"41dc0ba220f30c70aea019de214eccd650bc6f37\", \"Type\": \"SHA1\", \"Ransomware Family\": \"Vice Society\"}, {\"Indicator\": \"c9c2b6a5b930392b98f132f5395d54947391cb79\", \"Type\": \"SHA1\", \"Ransomware Family\": \"Vice Society\"}, {\"Indicator\": \"001938ed01bfde6b100927ff8199c65d1bff30381b80b846f2e3fe5a0d2df21d\", \"Type\": \"SHA256\", \"Ransomware Family\": \"Zeppelin\"}, {\"Indicator\": \"a42185d506e08160cb96c81801fbe173fb071f4a2f284830580541e057f4423b\", \"Type\": \"SHA256\", \"Ransomware Family\": \"Zeppelin\"}, {\"Indicator\": \"aa7e2d63fc991990958dfb795a0aed254149f185f403231eaebe35147f4b5ebe\", \"Type\": \"SHA256\", \"Ransomware Family\": \"Zeppelin\"}, {\"Indicator\": \"a2a9385cbbcfacc2d541f5bd92c38b0376b15002901b2fd1cc62859e161a8037\", \"Type\": \"SHA256\", \"Ransomware Family\": \"Zeppelin\"}, {\"Indicator\": \"54d567812eca7fc5f2ff566e7fb8a93618b6d2357ce71776238e0b94d55172b1\", \"Type\": \"SHA256\", \"Ransomware Family\": \"Zeppelin\"}, {\"Indicator\": \"fb59f163a2372d09cd0fc75341d3972fdd3087d2d507961303656b1d791b17c6\", \"Type\": \"SHA256\", \"Ransomware Family\": \"Zeppelin\"}, {\"Indicator\": \"1e3c5a0aa079f8dfcc49cdca82891ab78d016a919d9810120b79c5deb332f388\", \"Type\": \"SHA256\", \"Ransomware Family\": \"Zeppelin\"}, {\"Indicator\": \"347f14497df4df73bc414f4e852c5490b12db991a4b3811712bac7476a3f1bc9\", \"Type\": \"SHA256\", \"Ransomware Family\": \"Zeppelin\"}, {\"Indicator\": \"7d8c4c742689c097ac861fcbf7734709fd7dcab1f7ef2ceffb4b0b7dec109f55\", \"Type\": \"SHA256\", \"Ransomware Family\": \"Zeppelin\"}, {\"Indicator\": \"37c320983ae4c1fd0897736a53e5b0481edb1d1d91b366f047aa024b0fc0a86e\", \"Type\": \"SHA256\", \"Ransomware Family\": \"Zeppelin\"}, {\"Indicator\": \"894b03ed203cfa712a28ec472efec0ca9a55d6058115970fe7d1697a3ddb0072\", \"Type\": \"SHA256\", \"Ransomware Family\": \"Zeppelin\"}, {\"Indicator\": \"307877881957a297e41d75c84e9a965f1cd07ac9d026314dcaff55c4da23d03e\", \"Type\": \"SHA256\", \"Ransomware Family\": \"Zeppelin\"}, {\"Indicator\": \"bafd3434f3ba5bb9685e239762281d4c7504de7e0cfd9d6394e4a85b4882ff5d\", \"Type\": \"SHA256\", \"Ransomware Family\": \"Zeppelin\"}, {\"Indicator\": \"faa79c796c27b11c4f007023e50509662eac4bca99a71b26a9122c260abfb3c6\", \"Type\": \"SHA256\", \"Ransomware Family\": \"Zeppelin\"}, {\"Indicator\": \"e48cf17caffc40815efb907e522475722f059990afc19ac516592231a783e878\", \"Type\": \"SHA256\", \"Ransomware Family\": \"Zeppelin\"}, {\"Indicator\": \"4a4be110d587421ad50d2b1a38b108fa05f314631066a2e96a1c85cc05814080\", \"Type\": \"SHA256\", \"Ransomware Family\": \"Zeppelin\"}, {\"Indicator\": \"9ef90ec912543cc24e18e73299296f14cb2c931a5d633d4c097efa372ae59846\", \"Type\": \"SHA256\", \"Ransomware Family\": \"Zeppelin\"}, {\"Indicator\": \"dd89d939c941a53d6188232288a3bd73ba9baf0b4ca6bf6ccca697d9ee42533f\", \"Type\": \"SHA256\", \"Ransomware Family\": \"Zeppelin\"}, {\"Indicator\": \"79d6e498e7789aaccd8caa610e8c15836267c6a668c322111708cf80bc38286c\", \"Type\": \"SHA256\", \"Ransomware Family\": \"Zeppelin\"}, {\"Indicator\": \"b22b3625bcce7b010c0ee621434878c5f8d7691c2a101ae248dd221a70668ac0\", \"Type\": \"SHA256\", \"Ransomware Family\": \"Zeppelin\"}, {\"Indicator\": \"961fbc7641f04f9fed8391c387f01d64435dda6af1164be58c4cb808b08cc910\", \"Type\": \"SHA256\", \"Ransomware Family\": \"Zeppelin\"}, {\"Indicator\": \"d618c1ccd24d29e911cd3e899a4df2625155297e80f4c5c1354bc2e79f70768c\", \"Type\": \"SHA256\", \"Ransomware Family\": \"Zeppelin\"}, {\"Indicator\": \"8170612574f914eec9e66902767b834432a75b1d6ae510f77546af2a291a48a2\", \"Type\": \"SHA256\", \"Ransomware Family\": \"Zeppelin\"}, {\"Indicator\": \"5326f52bd9a7a52759fe2fde3407dc28e8c2caa33abf1c09c47b192a1c004c12\", \"Type\": \"SHA256\", \"Ransomware Family\": \"Zeppelin\"}, {\"Indicator\": \"6bafc7e2c7edc2167db187f50106e57b49d4a0e1b9269f1d8a40f824f2ccb42b\", \"Type\": \"SHA256\", \"Ransomware Family\": \"Zeppelin\"}, {\"Indicator\": \"f7af51f1b2b98b482885b702508bd65d310108a506e6d8cef3986e69f972c67d\", \"Type\": \"SHA256\", \"Ransomware Family\": \"Zeppelin\"}, {\"Indicator\": \"bc214c74bdf6f6781f0de994750ba3c50c0e10d9db3483183bd47f5cef154509\", \"Type\": \"SHA256\", \"Ransomware Family\": \"Zeppelin\"}, {\"Indicator\": \"ed1548744db512a5502474116828f75737aec8bb11133d5e4ad44be16aa3666b\", \"Type\": \"SHA256\", \"Ransomware Family\": \"Zeppelin\"}, {\"Indicator\": \"cf9b6dda84cbf2dbfc6edd7a740f50bddc128842565c590d8126e5d93c024ff2\", \"Type\": \"SHA256\", \"Ransomware Family\": \"Zeppelin\"}, {\"Indicator\": \"21807d9fcaa91a0945e80d92778760e7856268883d36139a1ad29ab91f9d983d\", \"Type\": \"SHA256\", \"Ransomware Family\": \"Zeppelin\"}, {\"Indicator\": \"0d22d3d637930e7c26a0f16513ec438243a8a01ea9c9d856acbcda61fcb7b499\", \"Type\": \"SHA256\", \"Ransomware Family\": \"Zeppelin\"}, {\"Indicator\": \"6fbfc8319ed7996761b613c18c8cb6b92a1eaed1555dae6c6b8e2594ac5fa2b9\", \"Type\": \"SHA256\", \"Ransomware Family\": \"Zeppelin\"}, {\"Indicator\": \"e8596675fef4ad8378e4220c22f4358fdb4a20531b59d7df5382c421867520a9\", \"Type\": \"SHA256\", \"Ransomware Family\": \"Zeppelin\"}, {\"Indicator\": \"353e59e96cbf6ea6c16d06da5579d3815aaaeeefacabd7b35ba31f7b17207c5b\", \"Type\": \"SHA256\", \"Ransomware Family\": \"Zeppelin\"}, {\"Indicator\": \"85f9bf4d07bc2ac1891e367f077dd513d6ca07705bffd1b648d32a7b2dc396f5\", \"Type\": \"SHA256\", \"Ransomware Family\": \"Zeppelin\"}, {\"Indicator\": \"614cb70659ef5bb2f641f09785adc4ab5873e0564a5303252d3c141a899253b2\", \"Type\": \"SHA256\", \"Ransomware Family\": \"Zeppelin\"}, {\"Indicator\": \"fb3e0f1e6f53ffe680d66d2143f06eb6363897d374dc5dc63eb2f28188b8ad83\", \"Type\": \"SHA256\", \"Ransomware Family\": \"Zeppelin\"}, {\"Indicator\": \"594df9c402abfdc3c838d871c3395ac047f256b2ac2fd6ff66b371252978348d\", \"Type\": \"SHA256\", \"Ransomware Family\": \"Zeppelin\"}, {\"Indicator\": \"2dffe3ba5c70af51ddf0ff5a322eba0746f3bf3ae0751beb3dc0059ed3faaf3d\", \"Type\": \"SHA256\", \"Ransomware Family\": \"Zeppelin\"}, {\"Indicator\": \"45fba1ef399f41227ae4d14228253237b5eb464f56cab92c91a6a964dc790622\", \"Type\": \"SHA256\", \"Ransomware Family\": \"Zeppelin\"}, {\"Indicator\": \"774ef04333c3fb2a6a4407654e28c2900c62bd202ad6e5909336eb9bc180d279\", \"Type\": \"SHA256\", \"Ransomware Family\": \"Zeppelin\"}, {\"Indicator\": \"677035259ba8342f1a624fd09168c42017bdca9ebc0b39bf6c37852899331460\", \"Type\": \"SHA256\", \"Ransomware Family\": \"Zeppelin\"}, {\"Indicator\": \"26ec12b63c0e4e60d839aea592c4b5dcff853589b53626e1dbf8c656f4ee6c64\", \"Type\": \"SHA256\", \"Ransomware Family\": \"Zeppelin\"}, {\"Indicator\": \"37efe10b04090995e2f3d9f932c3653b27a65fc76811fa583934a725d41a6b08\", \"Type\": \"SHA256\", \"Ransomware Family\": \"Zeppelin\"}, {\"Indicator\": \"a5847867730e7849117c31cdae8bb0a25004635d49f366fbfaebce034d865d7d\", \"Type\": \"SHA256\", \"Ransomware Family\": \"Zeppelin\"}, {\"Indicator\": \"e61edbddf9aed8a52e9be1165a0440f1b6e9943ae634148df0d0517a0cf2db13\", \"Type\": \"SHA256\", \"Ransomware Family\": \"Zeppelin\"}, {\"Indicator\": \"746f0c02c832b079aec221c04d2a4eb790287f6d10d39b95595a7df4086f457f\", \"Type\": \"SHA256\", \"Ransomware Family\": \"Zeppelin\"}, {\"Indicator\": \"b191a004b6d8a706aba82a2d1052bcb7bed0c286a0a6e4e0c4723f073af52e7c\", \"Type\": \"SHA256\", \"Ransomware Family\": \"Zeppelin\"}, {\"Indicator\": \"614cb70659ef5bb2f641f09785adc4ab5873e0564a5303252d3c141a899253b2\", \"Type\": \"SHA256\", \"Ransomware Family\": \"Zeppelin\"}, {\"Indicator\": \"85f9bf4d07bc2ac1891e367f077dd513d6ca07705bffd1b648d32a7b2dc396f5\", \"Type\": \"SHA256\", \"Ransomware Family\": \"Zeppelin\"}, {\"Indicator\": \"353e59e96cbf6ea6c16d06da5579d3815aaaeeefacabd7b35ba31f7b17207c5b\", \"Type\": \"SHA256\", \"Ransomware Family\": \"Zeppelin\"}, {\"Indicator\": \"e8596675fef4ad8378e4220c22f4358fdb4a20531b59d7df5382c421867520a9\", \"Type\": \"SHA256\", \"Ransomware Family\": \"Zeppelin\"}, {\"Indicator\": \"6fbfc8319ed7996761b613c18c8cb6b92a1eaed1555dae6c6b8e2594ac5fa2b9\", \"Type\": \"SHA256\", \"Ransomware Family\": \"Zeppelin\"}, {\"Indicator\": \"0d22d3d637930e7c26a0f16513ec438243a8a01ea9c9d856acbcda61fcb7b499\", \"Type\": \"SHA256\", \"Ransomware Family\": \"Zeppelin\"}, {\"Indicator\": \"how_to_ recover_data.html\", \"Type\": \"File\", \"Ransomware Family\": \"MedusaLocker\"}, {\"Indicator\": \"how_to_ recover_data.html\", \"Type\": \"File\", \"Ransomware Family\": \"MedusaLocker\"}, {\"Indicator\": \"instructions.html\", \"Type\": \"File\", \"Ransomware Family\": \"MedusaLocker\"}, {\"Indicator\": \"!!!HOW_TO_DECRYPT!!!\", \"Type\": \"File\", \"Ransomware Family\": \"MedusaLocker\"}, {\"Indicator\": \"readinstructions.html\", \"Type\": \"File\", \"Ransomware Family\": \"MedusaLocker\"}, {\"Indicator\": \"recovery_instructions.html\", \"Type\": \"File\", \"Ransomware Family\": \"MedusaLocker\"}, {\"Indicator\": \"how_to_recover_data.html.marlock01\", \"Type\": \"File\", \"Ransomware Family\": \"MedusaLocker\"}, {\"Indicator\": \"READINSTRUCTION.html\", \"Type\": \"File\", \"Ransomware Family\": \"MedusaLocker\"}, {\"Indicator\": \"How_to_recovery.txt\", \"Type\": \"File\", \"Ransomware Family\": \"MedusaLocker\"}, {\"Indicator\": \"readme_to_recover_files\", \"Type\": \"File\", \"Ransomware Family\": \"MedusaLocker\"}, {\"Indicator\": \"HOW_TO_RECOVER_DATA.html\", \"Type\": \"File\", \"Ransomware Family\": \"MedusaLocker\"}, {\"Indicator\": \"195.123.246.138\", \"Type\": \"IP\", \"Ransomware Family\": \"MedusaLocker\"}, {\"Indicator\": \"138.124.186.221\", \"Type\": \"IP\", \"Ransomware Family\": \"MedusaLocker\"}, {\"Indicator\": \"159.223.0.9\", \"Type\": \"IP\", \"Ransomware Family\": \"MedusaLocker\"}, {\"Indicator\": \"45.146.164.141\", \"Type\": \"IP\", \"Ransomware Family\": \"MedusaLocker\"}, {\"Indicator\": \"185.220.101.35\", \"Type\": \"IP\", \"Ransomware Family\": \"MedusaLocker\"}, {\"Indicator\": \"185.220.100.249\", \"Type\": \"IP\", \"Ransomware Family\": \"MedusaLocker\"}, {\"Indicator\": \"50.80.219.149\", \"Type\": \"IP\", \"Ransomware Family\": \"MedusaLocker\"}, {\"Indicator\": \"185.220.101.146\", \"Type\": \"IP\", \"Ransomware Family\": \"MedusaLocker\"}, {\"Indicator\": \"185.220.101.252\", \"Type\": \"IP\", \"Ransomware Family\": \"MedusaLocker\"}, {\"Indicator\": \"179.60.150.97\", \"Type\": \"IP\", \"Ransomware Family\": \"MedusaLocker\"}, {\"Indicator\": \"84.38.189.52\", \"Type\": \"IP\", \"Ransomware Family\": \"MedusaLocker\"}, {\"Indicator\": \"94.232.43.63\", \"Type\": \"IP\", \"Ransomware Family\": \"MedusaLocker\"}, {\"Indicator\": \"108.11.30.103\", \"Type\": \"IP\", \"Ransomware Family\": \"MedusaLocker\"}, {\"Indicator\": \"194.61.55.94\", \"Type\": \"IP\", \"Ransomware Family\": \"MedusaLocker\"}, {\"Indicator\": \"198.50.233.202\", \"Type\": \"IP\", \"Ransomware Family\": \"MedusaLocker\"}, {\"Indicator\": \"40.92.90.105\", \"Type\": \"IP\", \"Ransomware Family\": \"MedusaLocker\"}, {\"Indicator\": \"188.68.216.23\", \"Type\": \"IP\", \"Ransomware Family\": \"MedusaLocker\"}, {\"Indicator\": \"87.251.75.71\", \"Type\": \"IP\", \"Ransomware Family\": \"MedusaLocker\"}, {\"Indicator\": \"196.240.57.20\", \"Type\": \"IP\", \"Ransomware Family\": \"MedusaLocker\"}, {\"Indicator\": \"198.0.198.5\", \"Type\": \"IP\", \"Ransomware Family\": \"MedusaLocker\"}, {\"Indicator\": \"194.5.220.122\", \"Type\": \"IP\", \"Ransomware Family\": \"MedusaLocker\"}, {\"Indicator\": \"194.5.250.124\", \"Type\": \"IP\", \"Ransomware Family\": \"MedusaLocker\"}, {\"Indicator\": \"194.5.220.124\", \"Type\": \"IP\", \"Ransomware Family\": \"MedusaLocker\"}, {\"Indicator\": \"104.210.72.161\", \"Type\": \"IP\", \"Ransomware Family\": \"MedusaLocker\"}]'"
      ]
     },
     "execution_count": 6,
     "metadata": {},
     "output_type": "execute_result"
    }
   ],
   "source": [
    "# Use json to JSONify our IoC list\n",
    "import json\n",
    "\n",
    "# Here comes a wall of text\n",
    "json.dumps(iocs)"
   ]
  },
  {
   "cell_type": "markdown",
   "id": "547358b4-1b8c-4bda-b116-d1980f2a356f",
   "metadata": {},
   "source": [
    "That's a lot of text!\n",
    "\n",
    "What matters here is we now have a well-formatted JSON string. We can write this to a file (but there's actually an easier way), but we can also send this over network connections—say, to an API endpoint."
   ]
  },
  {
   "cell_type": "markdown",
   "id": "92836a8a-63f9-4cd2-acd2-c1d5e676356c",
   "metadata": {},
   "source": [
    "## Writing Files\n",
    "\n",
    "The `json` module makes it even simpler than `csv` to write files. The `dump()` method takes a file object and writes the entire JSON-able object to the file."
   ]
  },
  {
   "cell_type": "code",
   "execution_count": 9,
   "id": "9157cc7e-11f9-4214-8e94-9869601173d9",
   "metadata": {},
   "outputs": [],
   "source": [
    "# Write our IoCs to a file\n",
    "\n",
    "with open(\"ransomware_iocs.json\", \"w\") as f:\n",
    "    json.dump(iocs, f)"
   ]
  },
  {
   "cell_type": "markdown",
   "id": "f633f9d3-e6d3-49c7-b5a1-cc759d5ece22",
   "metadata": {},
   "source": [
    "As you can see, we now have a new `.json` file in this folder! It's that simple.\n",
    "\n",
    "I will also call out that `json.dump()` has an `indent` argument that will make the resulting file formatted with indendation and line breaks for human readability. Open this next file up in a text editor to see."
   ]
  },
  {
   "cell_type": "code",
   "execution_count": 10,
   "id": "47ef7e4d-d503-4023-9a65-808132b21da9",
   "metadata": {},
   "outputs": [],
   "source": [
    "with open(\"ransomware_iocs_pretty.json\", \"w\") as f:\n",
    "    json.dump(iocs, f, indent=4)"
   ]
  },
  {
   "cell_type": "markdown",
   "id": "f2b524f0-7ba6-41dc-b0dd-29b50c71c611",
   "metadata": {},
   "source": [
    "Quite the difference, right?"
   ]
  },
  {
   "cell_type": "markdown",
   "id": "547a4f70-dcda-497a-bb0e-492689a7b20c",
   "metadata": {},
   "source": [
    "## Importing JSON\n",
    "\n",
    "The `json` module has equivalent reading functions to its writing functions. `load()` loads JSON data directly from file pointers into Python objects, and `loads()` will do the same with strings."
   ]
  },
  {
   "cell_type": "code",
   "execution_count": 15,
   "id": "4e4e8d55-79f1-4522-a790-9884047d3199",
   "metadata": {},
   "outputs": [
    {
     "data": {
      "text/plain": [
       "[{'foo': 'bar'}]"
      ]
     },
     "execution_count": 15,
     "metadata": {},
     "output_type": "execute_result"
    }
   ],
   "source": [
    "# Quick demo of loads\n",
    "# Note that JSON requires double quotes, so we enclose the str in single quotes\n",
    "json.loads('[{\"foo\":\"bar\"}]')"
   ]
  },
  {
   "cell_type": "code",
   "execution_count": 17,
   "id": "a902a001-5749-4653-a73b-8a04e3d5f199",
   "metadata": {},
   "outputs": [],
   "source": [
    "# Now, let's reload the ransomware IoCs directly from the file\n",
    "\n",
    "# We start by deleting the iocs variable to remove all doubt\n",
    "del iocs\n",
    "\n",
    "with open(\"ransomware_iocs.json\") as f:\n",
    "    iocs: [dict] = json.load(f)"
   ]
  },
  {
   "cell_type": "markdown",
   "id": "24805914-0a36-4b6c-a679-bb59a3647bed",
   "metadata": {},
   "source": [
    "If it seems like working with JSON is a lot easier than working with CSVs...you might not be wrong. But not all data types can be stored as JSON! Anything not [supported by JSON](https://www.w3schools.com/js/js_json_datatypes.asp) has to be stringified one way or another to be saved as JSON."
   ]
  },
  {
   "cell_type": "markdown",
   "id": "b127bcca-ce13-4e7b-9315-15780bf24487",
   "metadata": {},
   "source": [
    "Again, no need for a check for understanding yet—we're saving that all for the final lab for this section 😉\n",
    "\n",
    "Up next, we take a brief detour into regular expressions!"
   ]
  },
  {
   "cell_type": "code",
   "execution_count": 19,
   "id": "0c191cc9-4e32-401c-9631-0bde829ada16",
   "metadata": {},
   "outputs": [],
   "source": [
    "# Cleanup the files\n",
    "\n",
    "! rm ransomware*.json"
   ]
  }
 ],
 "metadata": {
  "kernelspec": {
   "display_name": "Python 3 (ipykernel)",
   "language": "python",
   "name": "python3"
  },
  "language_info": {
   "codemirror_mode": {
    "name": "ipython",
    "version": 3
   },
   "file_extension": ".py",
   "mimetype": "text/x-python",
   "name": "python",
   "nbconvert_exporter": "python",
   "pygments_lexer": "ipython3",
   "version": "3.10.6"
  }
 },
 "nbformat": 4,
 "nbformat_minor": 5
}
