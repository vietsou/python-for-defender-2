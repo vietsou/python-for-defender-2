{
 "cells": [
  {
   "cell_type": "markdown",
   "id": "20b0a614-7d30-4f26-bfb2-a9599e75d131",
   "metadata": {},
   "source": [
    "# 4-2: APIs\n",
    "\n",
    "**A**pplication **P**rogramming **I**nterfaces are ways for one piece of software to communicate with another. In our case, we are specifically referring to HTTP endpoints where we can retrieve and send data. These are often referred to as [REST APIs](https://restfulapi.net/).\n",
    "\n",
    "The potential value of connecting our Notebooks to external data sources cannot be overstated. By leveraging the power of the interwebs, we can verify our findings, submit new intelligence, and enrich/correlate our data to tell a more complete story.\n",
    "\n",
    "To demonstrate this power, we will play a bit with the [VirusTotal API](https://developers.virustotal.com/reference/overview). If you're not familiar with VT, it's a fantastic resources for community-submitted malware samples and indicators. It's a primary part of my workflow.\n",
    "\n",
    "In order to do this, you will need a **VirusTotal API Key**, which means you'll need a VirusTotal account. They are free! Go get one. I'll wait.\n",
    "\n",
    "...\n",
    "\n",
    "Got one? Cool. Now, don't tell anyone. Not even me.\n",
    "\n",
    "## Seeeecrets\n",
    "\n",
    "Okay, got your API Key? Cool. One thing that we'll commonly have to do is enter secrets like API keys or passwords into a Notebook to handle authentication. This is tricky because we certainly don't want to expose those in plaintext, and we _definitely_ don't want to save them in the state of our Notebook unencrypted. What's a Jupyteer (I just made that up) to do?\n",
    "\n",
    "The `getpass` module allows us to collect secrets in a Jupyter Notebook and use them securely. They are _not_ stored in the saved state of the Notebook, meaning this process it Git-safe!\n",
    "\n",
    "Let's import it and play with it.\n"
   ]
  },
  {
   "cell_type": "code",
   "execution_count": null,
   "id": "527bdb67-c451-42cf-9438-4584a41baf59",
   "metadata": {},
   "outputs": [
    {
     "name": "stdin",
     "output_type": "stream",
     "text": [
      "Gimme a secret! ········\n"
     ]
    }
   ],
   "source": [
    "from getpass import getpass\n",
    "secret = getpass(\"Gimme a secret!\")"
   ]
  },
  {
   "cell_type": "markdown",
   "id": "7060bc46-0078-4858-b58a-cb971dd8bffd",
   "metadata": {},
   "source": [
    "Now you _can_ print that out, but don't. Just use these secrets as you need them."
   ]
  },
  {
   "cell_type": "markdown",
   "id": "7f564f01-ccdf-44ad-a44a-f8b2e4f45d13",
   "metadata": {},
   "source": [
    "## VT The Hard Way\n",
    "\n",
    "VirusTotal does have a Python module we can use, but I want to show you how to use the REST API directly first. \n",
    "\n",
    "### Headers and Authentication\n",
    "\n",
    "It is very common for REST APIs to use a HTTP header for authentication. In VT's case, the header `x-apikey` must be present and set to a valid API key. Let's set that up now (and import requests)"
   ]
  },
  {
   "cell_type": "code",
   "execution_count": null,
   "id": "9b6ee677-3e36-4d73-8494-9afad7d148a2",
   "metadata": {},
   "outputs": [],
   "source": [
    "# Import our stuff\n",
    "import requests\n",
    "import json"
   ]
  },
  {
   "cell_type": "code",
   "execution_count": 3,
   "id": "84770434-79a5-4d5a-980e-408d707325b3",
   "metadata": {},
   "outputs": [
    {
     "name": "stdin",
     "output_type": "stream",
     "text": [
      "VT API KEY ········\n"
     ]
    }
   ],
   "source": [
    "# Set the API key and build the headers\n",
    "api_key = getpass(\"VT API KEY\")\n",
    "headers = {\n",
    "    \"content-type\": \"application/json\",\n",
    "    \"x-apikey\": api_key\n",
    "}"
   ]
  },
  {
   "cell_type": "markdown",
   "id": "e777c80a-45f7-4a8f-be1f-68a021e1972f",
   "metadata": {},
   "source": [
    "Now we need a sample to test. I have one for us: a sha256sum of a strange file I found on a webserver:\n",
    "\n",
    "**SHA256:** `1c263b3f4d21039b2a89865a4ab6600f1cc034817bae6ab1f91599674e94be72`\n",
    "\n",
    "Now let's build our API request. Luckily, the endpoint for [Files](https://developers.virustotal.com/reference/file-info) is quite simple: a `GET` request to `https://www.virustotal.com/api/v3/files/[FILE HASH]`.\n",
    "\n",
    "With that and our header, we should be good! Let's build that with `requests` and get our data!"
   ]
  },
  {
   "cell_type": "code",
   "execution_count": 4,
   "id": "822c8f0b-ba5d-44c9-9412-3d866cd25aed",
   "metadata": {},
   "outputs": [],
   "source": [
    "# Build the VT Search\n",
    "\n",
    "# How else could we get hashes? Think back to what we've done before.\n",
    "search_item: str = \"1c263b3f4d21039b2a89865a4ab6600f1cc034817bae6ab1f91599674e94be72\"\n",
    "\n",
    "url: str = f\"https://www.virustotal.com/api/v3/files/{search_item}\"\n",
    "\n",
    "# Note the use of headers in the GET requests\n",
    "# We want the JSON result\n",
    "res: dict = requests.get(url, headers=headers).json()"
   ]
  },
  {
   "cell_type": "markdown",
   "id": "17a91621-04bb-44db-b548-bc5151a8785e",
   "metadata": {},
   "source": [
    "The thing about VirusTotal responses is that they can be kind of enormous. Let's break this one down to see what we have."
   ]
  },
  {
   "cell_type": "code",
   "execution_count": 5,
   "id": "0ffc6d2e-1c11-4ba6-bd3d-74b99ed13b99",
   "metadata": {},
   "outputs": [
    {
     "data": {
      "text/plain": [
       "dict_keys(['data'])"
      ]
     },
     "execution_count": 5,
     "metadata": {},
     "output_type": "execute_result"
    }
   ],
   "source": [
    "res.keys()"
   ]
  },
  {
   "cell_type": "markdown",
   "id": "a9f58c5a-b75d-44fb-92aa-d69350a1a617",
   "metadata": {},
   "source": [
    "Okay, 2 keys. Not so bad right? Well...`data` is a little bigger."
   ]
  },
  {
   "cell_type": "code",
   "execution_count": 6,
   "id": "ae566b33-6ec0-45a3-baed-66de160412c7",
   "metadata": {},
   "outputs": [
    {
     "data": {
      "text/plain": [
       "dict_keys(['attributes', 'type', 'id', 'links'])"
      ]
     },
     "execution_count": 6,
     "metadata": {},
     "output_type": "execute_result"
    }
   ],
   "source": [
    "data: dict = res[\"data\"]\n",
    "data.keys()"
   ]
  },
  {
   "cell_type": "code",
   "execution_count": 9,
   "id": "865234b8-079d-4a3c-a260-a8a90ea51691",
   "metadata": {},
   "outputs": [
    {
     "data": {
      "text/plain": [
       "dict_keys(['type_description', 'tlsh', 'vhash', 'trid', 'crowdsourced_yara_results', 'names', 'last_modification_date', 'type_tag', 'elf_info', 'times_submitted', 'total_votes', 'size', 'popular_threat_classification', 'last_submission_date', 'last_analysis_results', 'crowdsourced_ids_stats', 'sandbox_verdicts', 'sha256', 'tags', 'crowdsourced_ids_results', 'last_analysis_date', 'unique_sources', 'first_submission_date', 'ssdeep', 'packers', 'md5', 'sha1', 'magic', 'last_analysis_stats', 'meaningful_name', 'reputation'])"
      ]
     },
     "execution_count": 9,
     "metadata": {},
     "output_type": "execute_result"
    }
   ],
   "source": [
    "# Now let's see attributes\n",
    "attributes: dict = data[\"attributes\"]\n",
    "attributes.keys()"
   ]
  },
  {
   "cell_type": "markdown",
   "id": "9b3ec262-944a-4bb4-80cf-13a89f21bcb7",
   "metadata": {},
   "source": [
    "So obviously there's a lot to look through. It helps to know what we're after. I like `type_description`, `names` and `popular_threat_classification` for starters. These help identify what kind of a thing it probably is."
   ]
  },
  {
   "cell_type": "code",
   "execution_count": 10,
   "id": "0533f999-b472-4b3f-9752-018ce477e8b1",
   "metadata": {},
   "outputs": [
    {
     "name": "stdout",
     "output_type": "stream",
     "text": [
      "Type Description:\n",
      "ELF\n",
      "\n",
      "Names:\n",
      "['MALICITOS.x86', 'db0fa4b8db0333367e9bda3ab68b8042.x86', 'jawsoutput', 'exploit.exe', 'jawsshell.x86', 'copy']\n",
      "\n",
      "Popular Threat Classification:\n",
      "{'suggested_threat_label': 'trojan.linux/mirai', 'popular_threat_category': [{'count': 21, 'value': 'trojan'}], 'popular_threat_name': [{'count': 22, 'value': 'linux'}, {'count': 13, 'value': 'mirai'}, {'count': 2, 'value': 'r002c0oik22'}]}\n"
     ]
    }
   ],
   "source": [
    "# Print some basic data\n",
    "print(\"Type Description:\")\n",
    "print(attributes[\"type_description\"])\n",
    "print(\"\\nNames:\")\n",
    "print(attributes[\"names\"])\n",
    "print(\"\\nPopular Threat Classification:\")\n",
    "print(attributes[\"popular_threat_classification\"])"
   ]
  },
  {
   "cell_type": "markdown",
   "id": "ccfb33bc-6bf7-4e0e-a8fa-41e325465e5b",
   "metadata": {},
   "source": [
    "If you want to go a bit deeper on the results, `sandbox_verdicts` is always interesting."
   ]
  },
  {
   "cell_type": "code",
   "execution_count": 11,
   "id": "ba9c179e-d805-42ee-ac5d-035e48a94f2b",
   "metadata": {},
   "outputs": [
    {
     "data": {
      "text/plain": [
       "{'Zenbox Linux': {'category': 'malicious',\n",
       "  'confidence': 80,\n",
       "  'sandbox_name': 'Zenbox Linux',\n",
       "  'malware_classification': ['MALWARE', 'SPREADER', 'TROJAN'],\n",
       "  'malware_names': ['Gafgyt', 'Mirai']}}"
      ]
     },
     "execution_count": 11,
     "metadata": {},
     "output_type": "execute_result"
    }
   ],
   "source": [
    "attributes[\"sandbox_verdicts\"]"
   ]
  },
  {
   "cell_type": "markdown",
   "id": "880f9204-bc02-4d71-ac6e-eb71d89b5f61",
   "metadata": {},
   "source": [
    "And of course if you want the whole list of detections, that'll be in `last_analysis_results`. Because the list is so huge, I might deconstruct it a little bit. Also, knowing that failed detections are `None`s, I might use that to see just the engines that did detect it."
   ]
  },
  {
   "cell_type": "code",
   "execution_count": 12,
   "id": "6f9fa391-cbd7-4c2a-bb6f-d001ee0fde5c",
   "metadata": {},
   "outputs": [
    {
     "data": {
      "text/plain": [
       "[('Lionic', 'Trojan.Linux.Mirai.K!c'),\n",
       " ('DrWeb', 'Linux.Mirai.4327'),\n",
       " ('MicroWorld-eScan', 'Trojan.Linux.GenericKD.3050'),\n",
       " ('FireEye', 'Trojan.Linux.GenericKD.3050'),\n",
       " ('ALYac', 'Trojan.Linux.GenericKD.3050'),\n",
       " ('VIPRE', 'Trojan.Linux.GenericKD.3050'),\n",
       " ('Sangfor', 'Backdoor.Linux.Mirai.Vq8o'),\n",
       " ('Arcabit', 'Trojan.Linux.Generic.DBEA'),\n",
       " ('Cyren', 'E32/ABRisk.YKSD-6'),\n",
       " ('Symantec', 'Linux.Mirai'),\n",
       " ('ESET-NOD32', 'a variant of Linux/Mirai.ATO'),\n",
       " ('TrendMicro-HouseCall', 'TROJ_GEN.R002C0OIK22'),\n",
       " ('Avast', 'ELF:Agent-AYQ [Trj]'),\n",
       " ('ClamAV', 'Unix.Trojan.Mirai-7669677-0'),\n",
       " ('Kaspersky', 'HEUR:Backdoor.Linux.Mirai.b'),\n",
       " ('BitDefender', 'Trojan.Linux.GenericKD.3050'),\n",
       " ('NANO-Antivirus', 'Trojan.Elf32.Mirai.jsogey'),\n",
       " ('Tencent', 'Backdoor.Linux.Mirai.wan'),\n",
       " ('Ad-Aware', 'Trojan.Linux.GenericKD.3050'),\n",
       " ('Emsisoft', 'Trojan.Linux.GenericKD.3050 (B)'),\n",
       " ('TrendMicro', 'TROJ_GEN.R002C0OIK22'),\n",
       " ('McAfee-GW-Edition', 'GenericRXSE-LK!C770547629BE'),\n",
       " ('Sophos', 'Linux/DDoS-CI'),\n",
       " ('Ikarus', 'Trojan.Linux.Mirai'),\n",
       " ('Jiangmin', 'TrojanDDoS.Linux.nk'),\n",
       " ('Google', 'Detected'),\n",
       " ('Avira', 'LINUX/Mirai.gycfa'),\n",
       " ('Antiy-AVL', 'Trojan/Generic.ASELF.3'),\n",
       " ('Microsoft', 'Trojan:Linux/Multiverze'),\n",
       " ('GData', 'Trojan.Linux.GenericKD.3050'),\n",
       " ('Cynet', 'Malicious (score: 99)'),\n",
       " ('McAfee', 'GenericRXSE-LK!C770547629BE'),\n",
       " ('MAX', 'malware (ai score=85)'),\n",
       " ('Rising', 'Backdoor.Mirai/Linux!1.DCB1 (CLOUD)'),\n",
       " ('Fortinet', 'ELF/Mirai.AE!tr'),\n",
       " ('AVG', 'ELF:Agent-AYQ [Trj]')]"
      ]
     },
     "execution_count": 12,
     "metadata": {},
     "output_type": "execute_result"
    }
   ],
   "source": [
    "# Use a pretty complex list comprehension to get just successful detections\n",
    "positive_detections: [tuple] = [(k, v[\"result\"]) for k, v in attributes[\"last_analysis_results\"].items() if v[\"result\"]]\n",
    "positive_detections"
   ]
  },
  {
   "cell_type": "markdown",
   "id": "37735d65-0cfb-418f-9d9b-757debb95620",
   "metadata": {},
   "source": [
    "At this point, we have a pretty good idea that our hash belongs to a Linux executable that is a **Mirai** variant. If this came from a machine under our purview, we'd have cause for alarm! Or at the very least, incident response."
   ]
  },
  {
   "cell_type": "markdown",
   "id": "21faec71-21f2-4cd9-9fb2-1bfb286c6af3",
   "metadata": {
    "tags": []
   },
   "source": [
    "## VT The Easy Way\n",
    "\n",
    "Now that we've explored using the API \"raw,\" we can talk about using the Python module. Now, you don't _have_ to use it! If you prefer manual HTTP requests, that's fine. But the library can make some of the ergonomics a little better. Let's import it and see.\n",
    "\n",
    "_Note: We also use the `nest_asyncio` library for some of how the VT library does its network requests. Those 2 lines are necessary to make it work in Jupyter, but not outside of it._"
   ]
  },
  {
   "cell_type": "code",
   "execution_count": 13,
   "id": "091f6bb8-1fbc-458b-b6f2-8dc8efdd6265",
   "metadata": {},
   "outputs": [],
   "source": [
    "# import the VT library\n",
    "import vt\n",
    "import nest_asyncio\n",
    "nest_asyncio.apply()"
   ]
  },
  {
   "cell_type": "markdown",
   "id": "1007d7b1-3102-49ec-9be3-8056bf919eba",
   "metadata": {},
   "source": [
    "Many of these API libraries are built around a `Client` class, that we instantiate with our credentials. This one is no different. So up first, we'll create our client."
   ]
  },
  {
   "cell_type": "code",
   "execution_count": 14,
   "id": "6ee6cd63-6bca-4297-a503-f327656cc500",
   "metadata": {},
   "outputs": [],
   "source": [
    "# Instantiate the VT Client\n",
    "client = vt.Client(api_key)"
   ]
  },
  {
   "cell_type": "markdown",
   "id": "df6076ca-97bf-4227-b0b3-c2386540de9b",
   "metadata": {},
   "source": [
    "With the client, we can now perform the same search by specifying the path and using `get_json()` or `get_object()`. In both cases, you still need the last part of the API path"
   ]
  },
  {
   "cell_type": "code",
   "execution_count": 15,
   "id": "d2bf81d5-06f4-4054-b23e-51039e05b752",
   "metadata": {},
   "outputs": [
    {
     "data": {
      "text/plain": [
       "<vt.object.Object file 1c263b3f4d21039b2a89865a4ab6600f1cc034817bae6ab1f91599674e94be72>"
      ]
     },
     "execution_count": 15,
     "metadata": {},
     "output_type": "execute_result"
    }
   ],
   "source": [
    "# Get the object version of our search.\n",
    "r = client.get_object(f\"/files/{search_item}\")\n",
    "r"
   ]
  },
  {
   "cell_type": "markdown",
   "id": "e562e7cc-6963-4aa2-96fb-3fe164961cd5",
   "metadata": {},
   "source": [
    "`r` may not look like much, but it has everything we need easily accessible. Look!"
   ]
  },
  {
   "cell_type": "code",
   "execution_count": 16,
   "id": "b29c86ac-ca41-41b3-a88a-4586c9ca0544",
   "metadata": {},
   "outputs": [
    {
     "data": {
      "text/plain": [
       "'ELF'"
      ]
     },
     "execution_count": 16,
     "metadata": {},
     "output_type": "execute_result"
    }
   ],
   "source": [
    "r.type_description"
   ]
  },
  {
   "cell_type": "code",
   "execution_count": 17,
   "id": "f85e4d7b-8b7b-4c4d-99db-51096fc002d2",
   "metadata": {},
   "outputs": [
    {
     "data": {
      "text/plain": [
       "{'Zenbox Linux': {'category': 'malicious',\n",
       "  'confidence': 80,\n",
       "  'sandbox_name': 'Zenbox Linux',\n",
       "  'malware_classification': ['MALWARE', 'SPREADER', 'TROJAN'],\n",
       "  'malware_names': ['Gafgyt', 'Mirai']}}"
      ]
     },
     "execution_count": 17,
     "metadata": {},
     "output_type": "execute_result"
    }
   ],
   "source": [
    "r.sandbox_verdicts"
   ]
  },
  {
   "cell_type": "markdown",
   "id": "42d4147b-ba61-486d-902e-f3e6e8465bfd",
   "metadata": {},
   "source": [
    "Handy, right? That is much easier than navigating a ton of `dict`s"
   ]
  },
  {
   "cell_type": "markdown",
   "id": "9844fd1e-8ed4-4a8c-97d0-6b3092b5b315",
   "metadata": {},
   "source": [
    "## Check For Understanding\n",
    "\n",
    "No auto test for this. Use this Notebook to experiment with the VirusTotal API! Check domains and IPs while getting comfortable with these objects. When you're ready. move on to the next lesson, where we'll scrape web content manually!"
   ]
  },
  {
   "cell_type": "code",
   "execution_count": 18,
   "id": "c7f3e675-7648-48cf-825e-d051ff64c1f8",
   "metadata": {},
   "outputs": [],
   "source": [
    "# This cell is for your own work! Have fun!"
   ]
  }
 ],
 "metadata": {
  "kernelspec": {
   "display_name": "Python 3 (ipykernel)",
   "language": "python",
   "name": "python3"
  },
  "language_info": {
   "codemirror_mode": {
    "name": "ipython",
    "version": 3
   },
   "file_extension": ".py",
   "mimetype": "text/x-python",
   "name": "python",
   "nbconvert_exporter": "python",
   "pygments_lexer": "ipython3",
   "version": "3.10.6"
  }
 },
 "nbformat": 4,
 "nbformat_minor": 5
}
