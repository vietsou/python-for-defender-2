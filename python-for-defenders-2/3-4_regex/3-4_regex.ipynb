{
 "cells": [
  {
   "cell_type": "markdown",
   "id": "8edd301e-cd84-4757-8697-af0571e8cbb9",
   "metadata": {},
   "source": [
    "# 3-4: Regular Expressions\n",
    "\n",
    "I want to be very clear: this is not an introduction to regular expressions in general. If you need to review the basic concepts, I recommend going through our [free regex course](https://learn.taggart-tech.com/p/intro-to-regular-expressions) first. For a quicker review on syntax, check the [Python docs](https://docs.python.org/3/library/re.html).\n",
    "\n",
    "Instead, we'll review how to use regular expressions in Python, and how they become useful in common defensive tasks.\n",
    "\n",
    "It all begins with the `re` module, so let's get that imported."
   ]
  },
  {
   "cell_type": "code",
   "execution_count": 2,
   "id": "00137440-746b-4489-9a50-9c4eb9d9bf05",
   "metadata": {},
   "outputs": [],
   "source": [
    "# Import the re module\n",
    "import re"
   ]
  },
  {
   "cell_type": "markdown",
   "id": "e25a82f5-40bc-4352-bbb6-566090d74521",
   "metadata": {},
   "source": [
    "## Defining Regexes\n",
    "\n",
    "The first method to learn in the `re` module is `re.compile()`, which will take a string and turn it into a Regular Expression object to be used for pattern matching.\n",
    "\n",
    "This isn't _technically_ necessary, as we'll see, but it's a good practice because it makes the matching process more efficient when reusing the pattern.\n",
    "\n",
    "We'll start simple with a pattern for email addresses. What will we need?\n",
    "\n",
    "An email can be any alpahnumeric, dots, and dashes, and underscores (yes, really, even though GMail prohibits them). The name will be followed by an `@` symbol, then a valid domain.\n",
    "\n",
    "Now since we're dealing with dots, and dots have a meaning in regexes (any character), we'll need to escape them with a backslash. But! Backslashes have meanings in strings for escaping characters already! \n",
    "\n",
    "To avoid this weird gotcha, we can use Python's **raw string** syntax to define regexes without any escaping at all. Raw strings are prepending with `r`. Observe:"
   ]
  },
  {
   "cell_type": "code",
   "execution_count": 8,
   "id": "4e3b81db-aa52-422a-8e9a-cfc3319d6227",
   "metadata": {},
   "outputs": [
    {
     "name": "stdout",
     "output_type": "stream",
     "text": [
      "You'd think this would break a line: \\n. And yet, it doesn't in raw mode.\n"
     ]
    }
   ],
   "source": [
    "# Print backslashes with raw strings\n",
    "print(r\"You'd think this would break a line: \\n. And yet, it doesn't in raw mode.\")"
   ]
  },
  {
   "cell_type": "markdown",
   "id": "b3d591df-edcd-413e-b0b0-74cf3abb0b6b",
   "metadata": {},
   "source": [
    "So we can use raw strings with `re.compile()` to generate a regex for email addresses. Something a little like:"
   ]
  },
  {
   "cell_type": "code",
   "execution_count": 10,
   "id": "1c74588b-b6c5-450c-b9e6-09720e1bf925",
   "metadata": {},
   "outputs": [],
   "source": [
    "# Generate the email regex. There are others, but this will do fine for now.\n",
    "email_pattern = re.compile(r\"[a-zA-Z0-9_\\-\\+\\.]+\\@[a-zA-Z0-9-]+\\.[a-zA-Z0-9-]{2,}\")"
   ]
  },
  {
   "cell_type": "markdown",
   "id": "b6c4f845-0af5-4651-826a-594d8d9f0ad9",
   "metadata": {},
   "source": [
    "## Matching\n",
    "\n",
    "With our pattern compiled, we can test this against good (and bad) email addresses to confirm whether it works. To do so, `re` has several methods that work in subtly different ways.\n",
    "\n",
    "* `.match()` looks for a match against a pattern at the _beginning_ of a string. If there's a match later, too bad. \n",
    "* `.search()` looks for the first match _anywhere_ in the string. But only the first.\n",
    "* `.findall()` will return a list of _all_ matches in the string.\n",
    "\n",
    "Which one you want is a question of your performance needs, whether you need all matches, and the shape of your data. \n",
    "\n",
    "For `.match()` and `.search()`, a `match` object is returned if there were matches. Otherwise, `None` is returned. This can be useful for conditionals based on matches, as you'll recall that `None` is falsy.\n",
    "\n",
    "To see what was matched, call the `.group()` method.\n",
    "\n",
    "Let's demo the results of both with a sample of multiple good and bad emails."
   ]
  },
  {
   "cell_type": "code",
   "execution_count": 26,
   "id": "c7765c3d-a4c4-4fa7-8e23-9c407d375b8a",
   "metadata": {},
   "outputs": [],
   "source": [
    "# Build our sample\n",
    "sample: str = \"test@test.com testattest.com test@test.c test@bad_domain.com tes+t_1@good-domain.com\"\n",
    "\n",
    "# Test with match\n",
    "match = email_pattern.match(sample)"
   ]
  },
  {
   "cell_type": "code",
   "execution_count": 27,
   "id": "9934aadd-7294-415b-b09c-24cc99fd9774",
   "metadata": {},
   "outputs": [
    {
     "data": {
      "text/plain": [
       "'test@test.com'"
      ]
     },
     "execution_count": 27,
     "metadata": {},
     "output_type": "execute_result"
    }
   ],
   "source": [
    "# Review the findings\n",
    "match.group()"
   ]
  },
  {
   "cell_type": "markdown",
   "id": "130a7aee-e808-4773-960a-587fefb80e5d",
   "metadata": {},
   "source": [
    "So obviously we get one match, but more than one of these should work. Let's try with `.findall()`"
   ]
  },
  {
   "cell_type": "code",
   "execution_count": 29,
   "id": "608a518f-f025-41b0-9236-21f8951f92ec",
   "metadata": {},
   "outputs": [
    {
     "data": {
      "text/plain": [
       "['test@test.com', 'tes+t_1@good-domain.com']"
      ]
     },
     "execution_count": 29,
     "metadata": {},
     "output_type": "execute_result"
    }
   ],
   "source": [
    "# Now try with .findall()\n",
    "all_matches = re.findall(email_pattern, sample)\n",
    "all_matches"
   ]
  },
  {
   "cell_type": "markdown",
   "id": "e0f56283-383c-497b-80a7-27af832cd711",
   "metadata": {},
   "source": [
    "There we go!"
   ]
  },
  {
   "cell_type": "markdown",
   "id": "beeb18fe-506c-4ad5-b1dc-25a5ef4b7d68",
   "metadata": {},
   "source": [
    "## Named Groups\n",
    "\n",
    "One of my favorite tricks with regular expressions is using named groups. With this regex feature, we get match groups that we can reference using 3 methods: `.group()`, `.groups()`, and `.groupdict()`. The `.group()` method allows one-at-a-time access to named groups; the `.groups()` method returns a tuple of all matches; `.groupdict()` returns a `dict` with the named groups as keys. This in particular can make really quick work of parsing files such as logs.\n",
    "\n",
    "This folder has an `auth.log` file for us to play with. Let's import it as lines to process further."
   ]
  },
  {
   "cell_type": "code",
   "execution_count": 32,
   "id": "b60a943d-1ae3-425a-895f-44d634a86a5c",
   "metadata": {},
   "outputs": [
    {
     "data": {
      "text/plain": [
       "['10 Oct 2022 15:22:31 - User admin logged in',\n",
       " '10 Oct 2022 15:25:10 - User bob logged in',\n",
       " '10 Oct 2022 16:02:24 - User admin logged out']"
      ]
     },
     "execution_count": 32,
     "metadata": {},
     "output_type": "execute_result"
    }
   ],
   "source": [
    "# Import auth.log\n",
    "with open(\"auth.log\") as f:\n",
    "    auth_logs = [l.strip() for l in f.readlines()]\n",
    "\n",
    "# Display them\n",
    "auth_logs"
   ]
  },
  {
   "cell_type": "markdown",
   "id": "4475f3fd-4997-4a8f-8dc2-d4efe70e77e9",
   "metadata": {},
   "source": [
    "If we examine the log—simplistic as it is—and consider what we want out of it, 3 items emerge:\n",
    "\n",
    "* A `timestamp`\n",
    "* A `user`\n",
    "* An `action`\n",
    "\n",
    "Since each line has a predictable pattern, we can write a regex with named groups to capture the data and save the results. Let's build the pattern.\n",
    "\n",
    "* The `timestamp` is the beginning of the line, followed by a 2-digit number, a space, a three-character capitalized month, a 4 digit year, and then a HH:MM:SS time\n",
    "* The `user` is after the string `User ` and followed by a space\n",
    "* The `action` comes after the space following the `user`.\n",
    "\n",
    "Capture groups in regexes are delimited by parentheses. In Python, we make named groups with the `(?<name>pattern)` syntax.\n",
    "\n",
    "Putting it all together now..."
   ]
  },
  {
   "cell_type": "code",
   "execution_count": 33,
   "id": "833f32d5-52c1-4acf-9cf0-3f68f759b80c",
   "metadata": {},
   "outputs": [],
   "source": [
    "log_pattern = re.compile(r\"^(?P<timestamp>\\d{2} [A-Z][a-z]{2} \\d{4} \\d{2}:\\d{2}:\\d{2}) - User (?P<user>[a-z]+) (?P<action>.+)$\")"
   ]
  },
  {
   "cell_type": "markdown",
   "id": "f89b2c29-4367-494d-a49f-893f7241bc09",
   "metadata": {},
   "source": [
    "**IMPORTANT NOTE**\n",
    "\n",
    "It took me _years_ to be this fluent in regular expressions, and I still make mistakes all the time. If the above is difficult to parse, don't sweat it. Try to break it down one section at a time. I've also created a breakdown of this pattern on [regex101](https://regex101.com/r/0zpfZI/1), which will explain each section and show the matches."
   ]
  },
  {
   "cell_type": "markdown",
   "id": "37307e76-9814-430b-9b3e-42a3a400b3d3",
   "metadata": {},
   "source": [
    "Let's see what we get with a match!"
   ]
  },
  {
   "cell_type": "code",
   "execution_count": 51,
   "id": "c8bff366-c421-497f-9052-0065eb8e0c3e",
   "metadata": {},
   "outputs": [
    {
     "data": {
      "text/plain": [
       "<re.Match object; span=(0, 43), match='10 Oct 2022 15:22:31 - User admin logged in'>"
      ]
     },
     "execution_count": 51,
     "metadata": {},
     "output_type": "execute_result"
    }
   ],
   "source": [
    "# Test match\n",
    "match = log_pattern.match(auth_logs[0])\n",
    "match"
   ]
  },
  {
   "cell_type": "markdown",
   "id": "78b87b8a-0ba0-4224-989e-5ff7a5932b60",
   "metadata": {},
   "source": [
    "Now let's see what we get across our three group methods."
   ]
  },
  {
   "cell_type": "code",
   "execution_count": 48,
   "id": "a1e81569-bd39-473a-afda-48992ea8e733",
   "metadata": {},
   "outputs": [
    {
     "data": {
      "text/plain": [
       "'10 Oct 2022 15:22:31'"
      ]
     },
     "execution_count": 48,
     "metadata": {},
     "output_type": "execute_result"
    }
   ],
   "source": [
    "# Check .group()\n",
    "match.group(\"timestamp\")"
   ]
  },
  {
   "cell_type": "code",
   "execution_count": 49,
   "id": "889dec94-5b8d-436d-a120-0bad5868906c",
   "metadata": {},
   "outputs": [
    {
     "data": {
      "text/plain": [
       "('10 Oct 2022 15:22:31', 'admin', 'logged in')"
      ]
     },
     "execution_count": 49,
     "metadata": {},
     "output_type": "execute_result"
    }
   ],
   "source": [
    "# Check .groups()\n",
    "match.groups()"
   ]
  },
  {
   "cell_type": "code",
   "execution_count": 50,
   "id": "8b808f7b-ddc2-4d70-bdb9-2f35fe055c44",
   "metadata": {},
   "outputs": [
    {
     "data": {
      "text/plain": [
       "{'timestamp': '10 Oct 2022 15:22:31', 'user': 'admin', 'action': 'logged in'}"
      ]
     },
     "execution_count": 50,
     "metadata": {},
     "output_type": "execute_result"
    }
   ],
   "source": [
    "# Check .groupdict()\n",
    "match.groupdict()"
   ]
  },
  {
   "cell_type": "markdown",
   "id": "e392bf6a-7b85-4857-8511-bc4a557ec722",
   "metadata": {},
   "source": [
    "Plainly, we have a successful match! Since our pattern works, we can use it in a list comprehension to quickly parse all the logs."
   ]
  },
  {
   "cell_type": "code",
   "execution_count": 52,
   "id": "25e183c3-6420-432a-baec-8249df04e578",
   "metadata": {},
   "outputs": [
    {
     "data": {
      "text/plain": [
       "[{'timestamp': '10 Oct 2022 15:22:31', 'user': 'admin', 'action': 'logged in'},\n",
       " {'timestamp': '10 Oct 2022 15:25:10', 'user': 'bob', 'action': 'logged in'},\n",
       " {'timestamp': '10 Oct 2022 16:02:24',\n",
       "  'user': 'admin',\n",
       "  'action': 'logged out'}]"
      ]
     },
     "execution_count": 52,
     "metadata": {},
     "output_type": "execute_result"
    }
   ],
   "source": [
    "logs_parsed: [dict] = [log_pattern.match(l).groupdict() for l in auth_logs]\n",
    "logs_parsed"
   ]
  },
  {
   "cell_type": "markdown",
   "id": "fc3e4da7-11fb-43c8-8164-c4eb5c5c2726",
   "metadata": {},
   "source": [
    "Success! We now have a list of parsed logs in `dict`s.\n",
    "\n",
    "This method of parsing otherwise difficult-to-parse logs has been invaluable in my defensive work. Another example is this [Apache HTTP log parser](https://github.com/mttaggart/blue-jupyter/blob/main/log-analysis/HTTP.ipynb) from a collection of defensive notebooks I've been cobbling together. There's a lot going on in there which we'll cover shortly.\n",
    "\n",
    "For now, let's put all this together in our closing lab for this unit!"
   ]
  }
 ],
 "metadata": {
  "kernelspec": {
   "display_name": "Python 3 (ipykernel)",
   "language": "python",
   "name": "python3"
  },
  "language_info": {
   "codemirror_mode": {
    "name": "ipython",
    "version": 3
   },
   "file_extension": ".py",
   "mimetype": "text/x-python",
   "name": "python",
   "nbconvert_exporter": "python",
   "pygments_lexer": "ipython3",
   "version": "3.10.6"
  }
 },
 "nbformat": 4,
 "nbformat_minor": 5
}
