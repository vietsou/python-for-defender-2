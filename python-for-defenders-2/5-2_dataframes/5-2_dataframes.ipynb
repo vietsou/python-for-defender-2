{
 "cells": [
  {
   "cell_type": "markdown",
   "id": "81ded5c4-a302-47e1-ac63-2c7e12db35a6",
   "metadata": {},
   "source": [
    "# 5-2: DataFrames and Series\n",
    "\n",
    "Now we're ready for prime time. Working with data in Pandas is some of the most important material in this course. Once you know how to do it, it will transform your analysis capabilities. Do not skip this section; do not skimp on this section. It's far too valuable for anything less than your complete attention.\n",
    "\n",
    "Now then, let's begin.\n",
    "\n",
    "You've already seen the creation of `DataFrame`s from `[dict]`-shaped data. Let's explore some other common uses."
   ]
  },
  {
   "cell_type": "markdown",
   "id": "86ec7801-de0f-48bd-88ab-29ebe7839475",
   "metadata": {},
   "source": [
    "## DataFrames from CSVs\n",
    "\n",
    "This particular pipeline is probably _the most common_ ingestion method to get data into a `DataFrame`. CSV exports of logs, IoCs, etc. are made extra powerful inside of Pandas. Luckily, Pandas has a built-in method called `.read_csv()` that will take a CSV and create a `DataFrame` using a header row for column names.\n",
    "\n",
    "The CSV we're going to use is a list of [every CVE ever published](https://cve.mitre.org/data/downloads/index.html)[every CVE ever published](https://cve.mitre.org/data/downloads/index.html). But it isn't in this repo because it's too big. So we're gonna download it now and then clean it for your use.\n",
    "\n",
    "Let's load that in now and use `.head()` to check it out.\n"
   ]
  },
  {
   "cell_type": "code",
   "execution_count": 39,
   "id": "95bc7ef8-2dd4-4cd9-9c9b-94cf0d5d4ffc",
   "metadata": {},
   "outputs": [
    {
     "name": "stdout",
     "output_type": "stream",
     "text": [
      "--2022-11-06 14:22:01--  https://cve.mitre.org/data/downloads/allitems.csv\n",
      "Resolving cve.mitre.org (cve.mitre.org)... 192.52.194.205\n",
      "Connecting to cve.mitre.org (cve.mitre.org)|192.52.194.205|:443... connected.\n",
      "HTTP request sent, awaiting response... 200 OK\n",
      "Length: 164265545 (157M) [text/csv]\n",
      "Saving to: ‘allitems.csv.1’\n",
      "\n",
      "allitems.csv.1      100%[===================>] 156.66M  18.5MB/s    in 13s     \n",
      "\n",
      "2022-11-06 14:22:14 (12.3 MB/s) - ‘allitems.csv.1’ saved [164265545/164265545]\n",
      "\n"
     ]
    }
   ],
   "source": [
    "# Import Pandas\n",
    "import pandas as pd\n",
    "\n",
    "# Download and set up the CVE file\n",
    "! wget https://cve.mitre.org/data/downloads/allitems.csv\n",
    "! tail -n +3 allitems.csv | sed \"2,8d\" | iconv -f iso8859-1 -t utf-8 > all_cves_utf8.csv"
   ]
  },
  {
   "cell_type": "code",
   "execution_count": 37,
   "id": "70397053-1ba8-4e3a-b5d5-41827a94b3dd",
   "metadata": {},
   "outputs": [
    {
     "name": "stderr",
     "output_type": "stream",
     "text": [
      "/tmp/ipykernel_2029821/1583465983.py:3: DtypeWarning: Columns (6) have mixed types. Specify dtype option on import or set low_memory=False.\n",
      "  df = pd.read_csv(\"all_cves_utf8.csv\")\n"
     ]
    }
   ],
   "source": [
    "# Use .read_csv() to create our DataFrame\n",
    "# This may gnerate a DTypeWarning. Don't sweat it.\n",
    "df = pd.read_csv(\"all_cves_utf8.csv\")"
   ]
  },
  {
   "cell_type": "code",
   "execution_count": 38,
   "id": "3da60dd6-1af2-4e11-85a9-a9732bda3aba",
   "metadata": {},
   "outputs": [
    {
     "data": {
      "text/html": [
       "<div>\n",
       "<style scoped>\n",
       "    .dataframe tbody tr th:only-of-type {\n",
       "        vertical-align: middle;\n",
       "    }\n",
       "\n",
       "    .dataframe tbody tr th {\n",
       "        vertical-align: top;\n",
       "    }\n",
       "\n",
       "    .dataframe thead th {\n",
       "        text-align: right;\n",
       "    }\n",
       "</style>\n",
       "<table border=\"1\" class=\"dataframe\">\n",
       "  <thead>\n",
       "    <tr style=\"text-align: right;\">\n",
       "      <th></th>\n",
       "      <th>Name</th>\n",
       "      <th>Status</th>\n",
       "      <th>Description</th>\n",
       "      <th>References</th>\n",
       "      <th>Phase</th>\n",
       "      <th>Votes</th>\n",
       "      <th>Comments</th>\n",
       "    </tr>\n",
       "  </thead>\n",
       "  <tbody>\n",
       "    <tr>\n",
       "      <th>0</th>\n",
       "      <td>CVE-1999-0001</td>\n",
       "      <td>Candidate</td>\n",
       "      <td>ip_input.c in BSD-derived TCP/IP implementatio...</td>\n",
       "      <td>BUGTRAQ:19981223 Re: CERT Advisory CA-98.13 - ...</td>\n",
       "      <td>Modified (20051217)</td>\n",
       "      <td>MODIFY(1) Frech  |     NOOP(2) Northcutt, W...</td>\n",
       "      <td>Christey&gt; A Bugtraq posting indicates that the...</td>\n",
       "    </tr>\n",
       "    <tr>\n",
       "      <th>1</th>\n",
       "      <td>CVE-1999-0002</td>\n",
       "      <td>Entry</td>\n",
       "      <td>Buffer overflow in NFS mountd gives root acces...</td>\n",
       "      <td>BID:121   |   URL:http://www.securityfocus.com...</td>\n",
       "      <td>NaN</td>\n",
       "      <td>NaN</td>\n",
       "      <td>NaN</td>\n",
       "    </tr>\n",
       "    <tr>\n",
       "      <th>2</th>\n",
       "      <td>CVE-1999-0003</td>\n",
       "      <td>Entry</td>\n",
       "      <td>Execute commands as root via buffer overflow i...</td>\n",
       "      <td>BID:122   |   URL:http://www.securityfocus.com...</td>\n",
       "      <td>NaN</td>\n",
       "      <td>NaN</td>\n",
       "      <td>NaN</td>\n",
       "    </tr>\n",
       "    <tr>\n",
       "      <th>3</th>\n",
       "      <td>CVE-1999-0004</td>\n",
       "      <td>Candidate</td>\n",
       "      <td>MIME buffer overflow in email clients, e.g. So...</td>\n",
       "      <td>CERT:CA-98.10.mime_buffer_overflows   |   MS:M...</td>\n",
       "      <td>Modified (19990621)</td>\n",
       "      <td>ACCEPT(8) Baker, Cole, Collins, Dik, Landfi...</td>\n",
       "      <td>Frech&gt; Extremely minor, but I believe e-mail i...</td>\n",
       "    </tr>\n",
       "    <tr>\n",
       "      <th>4</th>\n",
       "      <td>CVE-1999-0005</td>\n",
       "      <td>Entry</td>\n",
       "      <td>Arbitrary command execution via IMAP buffer ov...</td>\n",
       "      <td>BID:130   |   URL:http://www.securityfocus.com...</td>\n",
       "      <td>NaN</td>\n",
       "      <td>NaN</td>\n",
       "      <td>NaN</td>\n",
       "    </tr>\n",
       "  </tbody>\n",
       "</table>\n",
       "</div>"
      ],
      "text/plain": [
       "            Name     Status  \\\n",
       "0  CVE-1999-0001  Candidate   \n",
       "1  CVE-1999-0002      Entry   \n",
       "2  CVE-1999-0003      Entry   \n",
       "3  CVE-1999-0004  Candidate   \n",
       "4  CVE-1999-0005      Entry   \n",
       "\n",
       "                                         Description  \\\n",
       "0  ip_input.c in BSD-derived TCP/IP implementatio...   \n",
       "1  Buffer overflow in NFS mountd gives root acces...   \n",
       "2  Execute commands as root via buffer overflow i...   \n",
       "3  MIME buffer overflow in email clients, e.g. So...   \n",
       "4  Arbitrary command execution via IMAP buffer ov...   \n",
       "\n",
       "                                          References                Phase  \\\n",
       "0  BUGTRAQ:19981223 Re: CERT Advisory CA-98.13 - ...  Modified (20051217)   \n",
       "1  BID:121   |   URL:http://www.securityfocus.com...                  NaN   \n",
       "2  BID:122   |   URL:http://www.securityfocus.com...                  NaN   \n",
       "3  CERT:CA-98.10.mime_buffer_overflows   |   MS:M...  Modified (19990621)   \n",
       "4  BID:130   |   URL:http://www.securityfocus.com...                  NaN   \n",
       "\n",
       "                                               Votes  \\\n",
       "0     MODIFY(1) Frech  |     NOOP(2) Northcutt, W...   \n",
       "1                                                NaN   \n",
       "2                                                NaN   \n",
       "3     ACCEPT(8) Baker, Cole, Collins, Dik, Landfi...   \n",
       "4                                                NaN   \n",
       "\n",
       "                                            Comments  \n",
       "0  Christey> A Bugtraq posting indicates that the...  \n",
       "1                                                NaN  \n",
       "2                                                NaN  \n",
       "3  Frech> Extremely minor, but I believe e-mail i...  \n",
       "4                                                NaN  "
      ]
     },
     "execution_count": 38,
     "metadata": {},
     "output_type": "execute_result"
    }
   ],
   "source": [
    "# Look at the first 5 rows with .head()\n",
    "df.head()"
   ]
  },
  {
   "cell_type": "markdown",
   "id": "063356ec-3a89-400a-9f73-8ec3d7588673",
   "metadata": {},
   "source": [
    "## What's in a DataFrame?\n",
    "\n",
    "A `DataFrame` contains multitudes. Understanding how each part functions will make manipulating them to do our bidding much, much easier.\n",
    "\n",
    "### Indices\n",
    "\n",
    "If you look closely at the output of `df.head()` above, you'll see that just to the left of the `Name` column, there appears to be an extra column. What gives?! We didn't define that!\n",
    "\n",
    "Indeed we did not. Every DataFrame requires an **Index**, which is how the individual rows in the DataFrame are referenced. Any column containing unique values can be an Index, but ideally it's one containing sensible sequential values. We can define and `index` column when we create the DataFrame, but if we don't, Pandas will create one for us. Let's look at `df.index` to see what it is."
   ]
  },
  {
   "cell_type": "code",
   "execution_count": 10,
   "id": "f64077f8-3281-4989-8d4a-b60b2e8b63d9",
   "metadata": {},
   "outputs": [
    {
     "data": {
      "text/plain": [
       "RangeIndex(start=0, stop=253434, step=1)"
      ]
     },
     "execution_count": 10,
     "metadata": {},
     "output_type": "execute_result"
    }
   ],
   "source": [
    "df.index"
   ]
  },
  {
   "cell_type": "markdown",
   "id": "46e8ee78-d516-4453-aec4-74105167f88c",
   "metadata": {},
   "source": [
    "Indices are important because they are the _way we access rows_. It's important to not think of indices in DataFrames the same way we think of them in a list. They don't really work the same way. Watch what happens when we try to use the list indexing syntax with a DataFrame:"
   ]
  },
  {
   "cell_type": "code",
   "execution_count": 11,
   "id": "97d047c0-d0e7-4609-ba6f-1fbaf25dd994",
   "metadata": {},
   "outputs": [
    {
     "ename": "KeyError",
     "evalue": "0",
     "output_type": "error",
     "traceback": [
      "\u001b[0;31m---------------------------------------------------------------------------\u001b[0m",
      "\u001b[0;31mKeyError\u001b[0m                                  Traceback (most recent call last)",
      "File \u001b[0;32m~/.cache/pypoetry/virtualenvs/python-for-defenders-2-Gxqys1RM-py3.8/lib/python3.8/site-packages/pandas/core/indexes/base.py:3800\u001b[0m, in \u001b[0;36mIndex.get_loc\u001b[0;34m(self, key, method, tolerance)\u001b[0m\n\u001b[1;32m   3799\u001b[0m \u001b[38;5;28;01mtry\u001b[39;00m:\n\u001b[0;32m-> 3800\u001b[0m     \u001b[38;5;28;01mreturn\u001b[39;00m \u001b[38;5;28;43mself\u001b[39;49m\u001b[38;5;241;43m.\u001b[39;49m\u001b[43m_engine\u001b[49m\u001b[38;5;241;43m.\u001b[39;49m\u001b[43mget_loc\u001b[49m\u001b[43m(\u001b[49m\u001b[43mcasted_key\u001b[49m\u001b[43m)\u001b[49m\n\u001b[1;32m   3801\u001b[0m \u001b[38;5;28;01mexcept\u001b[39;00m \u001b[38;5;167;01mKeyError\u001b[39;00m \u001b[38;5;28;01mas\u001b[39;00m err:\n",
      "File \u001b[0;32m~/.cache/pypoetry/virtualenvs/python-for-defenders-2-Gxqys1RM-py3.8/lib/python3.8/site-packages/pandas/_libs/index.pyx:138\u001b[0m, in \u001b[0;36mpandas._libs.index.IndexEngine.get_loc\u001b[0;34m()\u001b[0m\n",
      "File \u001b[0;32m~/.cache/pypoetry/virtualenvs/python-for-defenders-2-Gxqys1RM-py3.8/lib/python3.8/site-packages/pandas/_libs/index.pyx:165\u001b[0m, in \u001b[0;36mpandas._libs.index.IndexEngine.get_loc\u001b[0;34m()\u001b[0m\n",
      "File \u001b[0;32mpandas/_libs/hashtable_class_helper.pxi:5745\u001b[0m, in \u001b[0;36mpandas._libs.hashtable.PyObjectHashTable.get_item\u001b[0;34m()\u001b[0m\n",
      "File \u001b[0;32mpandas/_libs/hashtable_class_helper.pxi:5753\u001b[0m, in \u001b[0;36mpandas._libs.hashtable.PyObjectHashTable.get_item\u001b[0;34m()\u001b[0m\n",
      "\u001b[0;31mKeyError\u001b[0m: 0",
      "\nThe above exception was the direct cause of the following exception:\n",
      "\u001b[0;31mKeyError\u001b[0m                                  Traceback (most recent call last)",
      "Cell \u001b[0;32mIn [11], line 1\u001b[0m\n\u001b[0;32m----> 1\u001b[0m df[\u001b[38;5;241m0\u001b[39m]\n",
      "File \u001b[0;32m~/.cache/pypoetry/virtualenvs/python-for-defenders-2-Gxqys1RM-py3.8/lib/python3.8/site-packages/pandas/core/frame.py:3805\u001b[0m, in \u001b[0;36mDataFrame.__getitem__\u001b[0;34m(self, key)\u001b[0m\n\u001b[1;32m   3803\u001b[0m \u001b[38;5;28;01mif\u001b[39;00m \u001b[38;5;28mself\u001b[39m\u001b[38;5;241m.\u001b[39mcolumns\u001b[38;5;241m.\u001b[39mnlevels \u001b[38;5;241m>\u001b[39m \u001b[38;5;241m1\u001b[39m:\n\u001b[1;32m   3804\u001b[0m     \u001b[38;5;28;01mreturn\u001b[39;00m \u001b[38;5;28mself\u001b[39m\u001b[38;5;241m.\u001b[39m_getitem_multilevel(key)\n\u001b[0;32m-> 3805\u001b[0m indexer \u001b[38;5;241m=\u001b[39m \u001b[38;5;28;43mself\u001b[39;49m\u001b[38;5;241;43m.\u001b[39;49m\u001b[43mcolumns\u001b[49m\u001b[38;5;241;43m.\u001b[39;49m\u001b[43mget_loc\u001b[49m\u001b[43m(\u001b[49m\u001b[43mkey\u001b[49m\u001b[43m)\u001b[49m\n\u001b[1;32m   3806\u001b[0m \u001b[38;5;28;01mif\u001b[39;00m is_integer(indexer):\n\u001b[1;32m   3807\u001b[0m     indexer \u001b[38;5;241m=\u001b[39m [indexer]\n",
      "File \u001b[0;32m~/.cache/pypoetry/virtualenvs/python-for-defenders-2-Gxqys1RM-py3.8/lib/python3.8/site-packages/pandas/core/indexes/base.py:3802\u001b[0m, in \u001b[0;36mIndex.get_loc\u001b[0;34m(self, key, method, tolerance)\u001b[0m\n\u001b[1;32m   3800\u001b[0m     \u001b[38;5;28;01mreturn\u001b[39;00m \u001b[38;5;28mself\u001b[39m\u001b[38;5;241m.\u001b[39m_engine\u001b[38;5;241m.\u001b[39mget_loc(casted_key)\n\u001b[1;32m   3801\u001b[0m \u001b[38;5;28;01mexcept\u001b[39;00m \u001b[38;5;167;01mKeyError\u001b[39;00m \u001b[38;5;28;01mas\u001b[39;00m err:\n\u001b[0;32m-> 3802\u001b[0m     \u001b[38;5;28;01mraise\u001b[39;00m \u001b[38;5;167;01mKeyError\u001b[39;00m(key) \u001b[38;5;28;01mfrom\u001b[39;00m \u001b[38;5;21;01merr\u001b[39;00m\n\u001b[1;32m   3803\u001b[0m \u001b[38;5;28;01mexcept\u001b[39;00m \u001b[38;5;167;01mTypeError\u001b[39;00m:\n\u001b[1;32m   3804\u001b[0m     \u001b[38;5;66;03m# If we have a listlike key, _check_indexing_error will raise\u001b[39;00m\n\u001b[1;32m   3805\u001b[0m     \u001b[38;5;66;03m#  InvalidIndexError. Otherwise we fall through and re-raise\u001b[39;00m\n\u001b[1;32m   3806\u001b[0m     \u001b[38;5;66;03m#  the TypeError.\u001b[39;00m\n\u001b[1;32m   3807\u001b[0m     \u001b[38;5;28mself\u001b[39m\u001b[38;5;241m.\u001b[39m_check_indexing_error(key)\n",
      "\u001b[0;31mKeyError\u001b[0m: 0"
     ]
    }
   ],
   "source": [
    "# Try to get the first row...or will we?\n",
    "df[0]"
   ]
  },
  {
   "cell_type": "markdown",
   "id": "908c0bec-ec52-4953-b442-0665004af979",
   "metadata": {},
   "source": [
    "Yeah, that doesn't work. Pandas DataFrames have their own unique syntax for accessing data in this manner, built on two properties: `.loc` and `.iloc`. They look a little strange in practice.\n",
    "\n",
    "Let's try `.loc` first."
   ]
  },
  {
   "cell_type": "code",
   "execution_count": 13,
   "id": "0eaaa3e0-260e-4846-a2f6-217cdc82f865",
   "metadata": {},
   "outputs": [
    {
     "data": {
      "text/plain": [
       "Name                                               CVE-1999-0001\n",
       "Status                                                 Candidate\n",
       "Description    ip_input.c in BSD-derived TCP/IP implementatio...\n",
       "References     BUGTRAQ:19981223 Re: CERT Advisory CA-98.13 - ...\n",
       "Phase                                        Modified (20051217)\n",
       "Votes             MODIFY(1) Frech  |     NOOP(2) Northcutt, W...\n",
       "Comments       Christey> A Bugtraq posting indicates that the...\n",
       "Name: 0, dtype: object"
      ]
     },
     "execution_count": 13,
     "metadata": {},
     "output_type": "execute_result"
    }
   ],
   "source": [
    "# Access the first row\n",
    "df.loc[0]"
   ]
  },
  {
   "cell_type": "markdown",
   "id": "ca4cd277-e28c-4356-b15e-930dd951733c",
   "metadata": {},
   "source": [
    "But that's not all `.loc` can do. We can pass column names as well after a comma! Let's say we wanted the `Description` column."
   ]
  },
  {
   "cell_type": "code",
   "execution_count": 14,
   "id": "b2a1d686-6c0d-4bb7-b735-1428b49b6810",
   "metadata": {},
   "outputs": [
    {
     "data": {
      "text/plain": [
       "'ip_input.c in BSD-derived TCP/IP implementations allows remote attackers to cause a denial of service (crash or hang) via crafted packets.'"
      ]
     },
     "execution_count": 14,
     "metadata": {},
     "output_type": "execute_result"
    }
   ],
   "source": [
    "df.loc[0, \"Description\"]"
   ]
  },
  {
   "cell_type": "markdown",
   "id": "3fe34aa7-a1fa-468a-8268-bf17d4f3996f",
   "metadata": {},
   "source": [
    "That's all we get! What if we want more than one col? List 'em."
   ]
  },
  {
   "cell_type": "code",
   "execution_count": 15,
   "id": "e094897c-8fb6-456b-8485-64a4949b7b8a",
   "metadata": {},
   "outputs": [
    {
     "data": {
      "text/plain": [
       "Name                                               CVE-1999-0001\n",
       "Description    ip_input.c in BSD-derived TCP/IP implementatio...\n",
       "Name: 0, dtype: object"
      ]
     },
     "execution_count": 15,
     "metadata": {},
     "output_type": "execute_result"
    }
   ],
   "source": [
    "df.loc[0, [\"Name\", \"Description\"]]"
   ]
  },
  {
   "cell_type": "markdown",
   "id": "f2e01ff0-f062-443a-9e63-f8ba983c325e",
   "metadata": {},
   "source": [
    "Okay, but what if we want multiple rows? We can either list them or use a slice syntax."
   ]
  },
  {
   "cell_type": "code",
   "execution_count": 19,
   "id": "9034e707-6159-4bbe-9c67-3cd4934acc63",
   "metadata": {},
   "outputs": [
    {
     "data": {
      "text/html": [
       "<div>\n",
       "<style scoped>\n",
       "    .dataframe tbody tr th:only-of-type {\n",
       "        vertical-align: middle;\n",
       "    }\n",
       "\n",
       "    .dataframe tbody tr th {\n",
       "        vertical-align: top;\n",
       "    }\n",
       "\n",
       "    .dataframe thead th {\n",
       "        text-align: right;\n",
       "    }\n",
       "</style>\n",
       "<table border=\"1\" class=\"dataframe\">\n",
       "  <thead>\n",
       "    <tr style=\"text-align: right;\">\n",
       "      <th></th>\n",
       "      <th>Name</th>\n",
       "      <th>Description</th>\n",
       "    </tr>\n",
       "  </thead>\n",
       "  <tbody>\n",
       "    <tr>\n",
       "      <th>0</th>\n",
       "      <td>CVE-1999-0001</td>\n",
       "      <td>ip_input.c in BSD-derived TCP/IP implementatio...</td>\n",
       "    </tr>\n",
       "    <tr>\n",
       "      <th>1</th>\n",
       "      <td>CVE-1999-0002</td>\n",
       "      <td>Buffer overflow in NFS mountd gives root acces...</td>\n",
       "    </tr>\n",
       "    <tr>\n",
       "      <th>2</th>\n",
       "      <td>CVE-1999-0003</td>\n",
       "      <td>Execute commands as root via buffer overflow i...</td>\n",
       "    </tr>\n",
       "    <tr>\n",
       "      <th>3</th>\n",
       "      <td>CVE-1999-0004</td>\n",
       "      <td>MIME buffer overflow in email clients, e.g. So...</td>\n",
       "    </tr>\n",
       "    <tr>\n",
       "      <th>4</th>\n",
       "      <td>CVE-1999-0005</td>\n",
       "      <td>Arbitrary command execution via IMAP buffer ov...</td>\n",
       "    </tr>\n",
       "    <tr>\n",
       "      <th>5</th>\n",
       "      <td>CVE-1999-0006</td>\n",
       "      <td>Buffer overflow in POP servers based on BSD/Qu...</td>\n",
       "    </tr>\n",
       "    <tr>\n",
       "      <th>6</th>\n",
       "      <td>CVE-1999-0007</td>\n",
       "      <td>Information from SSL-encrypted sessions via PK...</td>\n",
       "    </tr>\n",
       "    <tr>\n",
       "      <th>7</th>\n",
       "      <td>CVE-1999-0008</td>\n",
       "      <td>Buffer overflow in NIS+, in Sun's rpc.nisd pro...</td>\n",
       "    </tr>\n",
       "    <tr>\n",
       "      <th>8</th>\n",
       "      <td>CVE-1999-0009</td>\n",
       "      <td>Inverse query buffer overflow in BIND 4.9 and ...</td>\n",
       "    </tr>\n",
       "    <tr>\n",
       "      <th>9</th>\n",
       "      <td>CVE-1999-0010</td>\n",
       "      <td>Denial of Service vulnerability in BIND 8 Rele...</td>\n",
       "    </tr>\n",
       "  </tbody>\n",
       "</table>\n",
       "</div>"
      ],
      "text/plain": [
       "            Name                                        Description\n",
       "0  CVE-1999-0001  ip_input.c in BSD-derived TCP/IP implementatio...\n",
       "1  CVE-1999-0002  Buffer overflow in NFS mountd gives root acces...\n",
       "2  CVE-1999-0003  Execute commands as root via buffer overflow i...\n",
       "3  CVE-1999-0004  MIME buffer overflow in email clients, e.g. So...\n",
       "4  CVE-1999-0005  Arbitrary command execution via IMAP buffer ov...\n",
       "5  CVE-1999-0006  Buffer overflow in POP servers based on BSD/Qu...\n",
       "6  CVE-1999-0007  Information from SSL-encrypted sessions via PK...\n",
       "7  CVE-1999-0008  Buffer overflow in NIS+, in Sun's rpc.nisd pro...\n",
       "8  CVE-1999-0009  Inverse query buffer overflow in BIND 4.9 and ...\n",
       "9  CVE-1999-0010  Denial of Service vulnerability in BIND 8 Rele..."
      ]
     },
     "execution_count": 19,
     "metadata": {},
     "output_type": "execute_result"
    }
   ],
   "source": [
    "# Access the first 10 rows\n",
    "# We can also use a list of index values\n",
    "df.loc[0:9, [\"Name\", \"Description\"]]"
   ]
  },
  {
   "cell_type": "markdown",
   "id": "35eb6a17-2907-4234-8dda-3458d0ea1646",
   "metadata": {},
   "source": [
    "Notice that we get a much nicer output when we select multiple rows.\n",
    "\n",
    "`.iloc` works similarly, except that it uses integer values for access rather than names. In the case of our Index, they are one and the same, but watch how we can access columns with `.iloc`."
   ]
  },
  {
   "cell_type": "code",
   "execution_count": 25,
   "id": "254212a6-b76c-492c-a5b0-b6c8b4e9edd5",
   "metadata": {},
   "outputs": [
    {
     "data": {
      "text/html": [
       "<div>\n",
       "<style scoped>\n",
       "    .dataframe tbody tr th:only-of-type {\n",
       "        vertical-align: middle;\n",
       "    }\n",
       "\n",
       "    .dataframe tbody tr th {\n",
       "        vertical-align: top;\n",
       "    }\n",
       "\n",
       "    .dataframe thead th {\n",
       "        text-align: right;\n",
       "    }\n",
       "</style>\n",
       "<table border=\"1\" class=\"dataframe\">\n",
       "  <thead>\n",
       "    <tr style=\"text-align: right;\">\n",
       "      <th></th>\n",
       "      <th>Name</th>\n",
       "      <th>Status</th>\n",
       "      <th>Description</th>\n",
       "    </tr>\n",
       "  </thead>\n",
       "  <tbody>\n",
       "    <tr>\n",
       "      <th>0</th>\n",
       "      <td>CVE-1999-0001</td>\n",
       "      <td>Candidate</td>\n",
       "      <td>ip_input.c in BSD-derived TCP/IP implementatio...</td>\n",
       "    </tr>\n",
       "    <tr>\n",
       "      <th>1</th>\n",
       "      <td>CVE-1999-0002</td>\n",
       "      <td>Entry</td>\n",
       "      <td>Buffer overflow in NFS mountd gives root acces...</td>\n",
       "    </tr>\n",
       "    <tr>\n",
       "      <th>2</th>\n",
       "      <td>CVE-1999-0003</td>\n",
       "      <td>Entry</td>\n",
       "      <td>Execute commands as root via buffer overflow i...</td>\n",
       "    </tr>\n",
       "    <tr>\n",
       "      <th>3</th>\n",
       "      <td>CVE-1999-0004</td>\n",
       "      <td>Candidate</td>\n",
       "      <td>MIME buffer overflow in email clients, e.g. So...</td>\n",
       "    </tr>\n",
       "    <tr>\n",
       "      <th>4</th>\n",
       "      <td>CVE-1999-0005</td>\n",
       "      <td>Entry</td>\n",
       "      <td>Arbitrary command execution via IMAP buffer ov...</td>\n",
       "    </tr>\n",
       "    <tr>\n",
       "      <th>5</th>\n",
       "      <td>CVE-1999-0006</td>\n",
       "      <td>Entry</td>\n",
       "      <td>Buffer overflow in POP servers based on BSD/Qu...</td>\n",
       "    </tr>\n",
       "    <tr>\n",
       "      <th>6</th>\n",
       "      <td>CVE-1999-0007</td>\n",
       "      <td>Entry</td>\n",
       "      <td>Information from SSL-encrypted sessions via PK...</td>\n",
       "    </tr>\n",
       "    <tr>\n",
       "      <th>7</th>\n",
       "      <td>CVE-1999-0008</td>\n",
       "      <td>Entry</td>\n",
       "      <td>Buffer overflow in NIS+, in Sun's rpc.nisd pro...</td>\n",
       "    </tr>\n",
       "    <tr>\n",
       "      <th>8</th>\n",
       "      <td>CVE-1999-0009</td>\n",
       "      <td>Entry</td>\n",
       "      <td>Inverse query buffer overflow in BIND 4.9 and ...</td>\n",
       "    </tr>\n",
       "    <tr>\n",
       "      <th>9</th>\n",
       "      <td>CVE-1999-0010</td>\n",
       "      <td>Entry</td>\n",
       "      <td>Denial of Service vulnerability in BIND 8 Rele...</td>\n",
       "    </tr>\n",
       "  </tbody>\n",
       "</table>\n",
       "</div>"
      ],
      "text/plain": [
       "            Name     Status                                        Description\n",
       "0  CVE-1999-0001  Candidate  ip_input.c in BSD-derived TCP/IP implementatio...\n",
       "1  CVE-1999-0002      Entry  Buffer overflow in NFS mountd gives root acces...\n",
       "2  CVE-1999-0003      Entry  Execute commands as root via buffer overflow i...\n",
       "3  CVE-1999-0004  Candidate  MIME buffer overflow in email clients, e.g. So...\n",
       "4  CVE-1999-0005      Entry  Arbitrary command execution via IMAP buffer ov...\n",
       "5  CVE-1999-0006      Entry  Buffer overflow in POP servers based on BSD/Qu...\n",
       "6  CVE-1999-0007      Entry  Information from SSL-encrypted sessions via PK...\n",
       "7  CVE-1999-0008      Entry  Buffer overflow in NIS+, in Sun's rpc.nisd pro...\n",
       "8  CVE-1999-0009      Entry  Inverse query buffer overflow in BIND 4.9 and ...\n",
       "9  CVE-1999-0010      Entry  Denial of Service vulnerability in BIND 8 Rele..."
      ]
     },
     "execution_count": 25,
     "metadata": {},
     "output_type": "execute_result"
    }
   ],
   "source": [
    "# Using .iloc to access data\n",
    "df.iloc[0:10, 0:3]"
   ]
  },
  {
   "cell_type": "markdown",
   "id": "7d72c27a-91d6-41d5-a358-f6be9ea6f968",
   "metadata": {},
   "source": [
    "In truth, I rarely access data directly in this way. The whole point is to manipulate the data at scale, so it's uncommon for me to need to access specific rows.\n",
    "\n",
    "But before we depart Indices, I want to stress the value of using a custom Index rather than the default. Depending on your data shape, this can be incredibly convenient. One common example is if your dataset has (completely) unique timestamps. In that case, you can convert the timestamp to a `DateTimeIndex` and have Pandas automatically sort your data chronologically. This also gives you the power to group data by hour, month, day, etc. \n",
    "\n",
    "Our data happens to have unique values in the `Name` column. So if we wanted to, we could use that as our index. Let's try it and see the difference.\n",
    "\n",
    "We can change the index of a `DataFrame` with `.set_index()`. I want you to look at the [docs](https://pandas.pydata.org/docs/reference/api/pandas.DataFrame.set_index.html) for this method because it introduces a common pattern in Pandas: normally, when we make a global change to a DataFrame, Pandas will return a new DataFrame instead of mutating the original. This is for data integrity and is a good idea! However, if you know for sure you want to change the original, you can often pass `inplace=True` as an optional argument to the method.\n",
    "\n",
    "But we won't be doing that right now."
   ]
  },
  {
   "cell_type": "code",
   "execution_count": 26,
   "id": "48e164d7-7aa1-436c-8d34-8c68ce2ab34c",
   "metadata": {},
   "outputs": [
    {
     "data": {
      "text/html": [
       "<div>\n",
       "<style scoped>\n",
       "    .dataframe tbody tr th:only-of-type {\n",
       "        vertical-align: middle;\n",
       "    }\n",
       "\n",
       "    .dataframe tbody tr th {\n",
       "        vertical-align: top;\n",
       "    }\n",
       "\n",
       "    .dataframe thead th {\n",
       "        text-align: right;\n",
       "    }\n",
       "</style>\n",
       "<table border=\"1\" class=\"dataframe\">\n",
       "  <thead>\n",
       "    <tr style=\"text-align: right;\">\n",
       "      <th></th>\n",
       "      <th>Status</th>\n",
       "      <th>Description</th>\n",
       "      <th>References</th>\n",
       "      <th>Phase</th>\n",
       "      <th>Votes</th>\n",
       "      <th>Comments</th>\n",
       "    </tr>\n",
       "    <tr>\n",
       "      <th>Name</th>\n",
       "      <th></th>\n",
       "      <th></th>\n",
       "      <th></th>\n",
       "      <th></th>\n",
       "      <th></th>\n",
       "      <th></th>\n",
       "    </tr>\n",
       "  </thead>\n",
       "  <tbody>\n",
       "    <tr>\n",
       "      <th>CVE-1999-0001</th>\n",
       "      <td>Candidate</td>\n",
       "      <td>ip_input.c in BSD-derived TCP/IP implementatio...</td>\n",
       "      <td>BUGTRAQ:19981223 Re: CERT Advisory CA-98.13 - ...</td>\n",
       "      <td>Modified (20051217)</td>\n",
       "      <td>MODIFY(1) Frech  |     NOOP(2) Northcutt, W...</td>\n",
       "      <td>Christey&gt; A Bugtraq posting indicates that the...</td>\n",
       "    </tr>\n",
       "    <tr>\n",
       "      <th>CVE-1999-0002</th>\n",
       "      <td>Entry</td>\n",
       "      <td>Buffer overflow in NFS mountd gives root acces...</td>\n",
       "      <td>BID:121   |   URL:http://www.securityfocus.com...</td>\n",
       "      <td>NaN</td>\n",
       "      <td>NaN</td>\n",
       "      <td>NaN</td>\n",
       "    </tr>\n",
       "    <tr>\n",
       "      <th>CVE-1999-0003</th>\n",
       "      <td>Entry</td>\n",
       "      <td>Execute commands as root via buffer overflow i...</td>\n",
       "      <td>BID:122   |   URL:http://www.securityfocus.com...</td>\n",
       "      <td>NaN</td>\n",
       "      <td>NaN</td>\n",
       "      <td>NaN</td>\n",
       "    </tr>\n",
       "    <tr>\n",
       "      <th>CVE-1999-0004</th>\n",
       "      <td>Candidate</td>\n",
       "      <td>MIME buffer overflow in email clients, e.g. So...</td>\n",
       "      <td>CERT:CA-98.10.mime_buffer_overflows   |   MS:M...</td>\n",
       "      <td>Modified (19990621)</td>\n",
       "      <td>ACCEPT(8) Baker, Cole, Collins, Dik, Landfi...</td>\n",
       "      <td>Frech&gt; Extremely minor, but I believe e-mail i...</td>\n",
       "    </tr>\n",
       "    <tr>\n",
       "      <th>CVE-1999-0005</th>\n",
       "      <td>Entry</td>\n",
       "      <td>Arbitrary command execution via IMAP buffer ov...</td>\n",
       "      <td>BID:130   |   URL:http://www.securityfocus.com...</td>\n",
       "      <td>NaN</td>\n",
       "      <td>NaN</td>\n",
       "      <td>NaN</td>\n",
       "    </tr>\n",
       "  </tbody>\n",
       "</table>\n",
       "</div>"
      ],
      "text/plain": [
       "                  Status                                        Description  \\\n",
       "Name                                                                          \n",
       "CVE-1999-0001  Candidate  ip_input.c in BSD-derived TCP/IP implementatio...   \n",
       "CVE-1999-0002      Entry  Buffer overflow in NFS mountd gives root acces...   \n",
       "CVE-1999-0003      Entry  Execute commands as root via buffer overflow i...   \n",
       "CVE-1999-0004  Candidate  MIME buffer overflow in email clients, e.g. So...   \n",
       "CVE-1999-0005      Entry  Arbitrary command execution via IMAP buffer ov...   \n",
       "\n",
       "                                                      References  \\\n",
       "Name                                                               \n",
       "CVE-1999-0001  BUGTRAQ:19981223 Re: CERT Advisory CA-98.13 - ...   \n",
       "CVE-1999-0002  BID:121   |   URL:http://www.securityfocus.com...   \n",
       "CVE-1999-0003  BID:122   |   URL:http://www.securityfocus.com...   \n",
       "CVE-1999-0004  CERT:CA-98.10.mime_buffer_overflows   |   MS:M...   \n",
       "CVE-1999-0005  BID:130   |   URL:http://www.securityfocus.com...   \n",
       "\n",
       "                             Phase  \\\n",
       "Name                                 \n",
       "CVE-1999-0001  Modified (20051217)   \n",
       "CVE-1999-0002                  NaN   \n",
       "CVE-1999-0003                  NaN   \n",
       "CVE-1999-0004  Modified (19990621)   \n",
       "CVE-1999-0005                  NaN   \n",
       "\n",
       "                                                           Votes  \\\n",
       "Name                                                               \n",
       "CVE-1999-0001     MODIFY(1) Frech  |     NOOP(2) Northcutt, W...   \n",
       "CVE-1999-0002                                                NaN   \n",
       "CVE-1999-0003                                                NaN   \n",
       "CVE-1999-0004     ACCEPT(8) Baker, Cole, Collins, Dik, Landfi...   \n",
       "CVE-1999-0005                                                NaN   \n",
       "\n",
       "                                                        Comments  \n",
       "Name                                                              \n",
       "CVE-1999-0001  Christey> A Bugtraq posting indicates that the...  \n",
       "CVE-1999-0002                                                NaN  \n",
       "CVE-1999-0003                                                NaN  \n",
       "CVE-1999-0004  Frech> Extremely minor, but I believe e-mail i...  \n",
       "CVE-1999-0005                                                NaN  "
      ]
     },
     "execution_count": 26,
     "metadata": {},
     "output_type": "execute_result"
    }
   ],
   "source": [
    "# Create cve index\n",
    "cve_idx_df = df.set_index(\"Name\")\n",
    "cve_idx_df.head()"
   ]
  },
  {
   "cell_type": "markdown",
   "id": "2074f1a2-a5cb-42c0-9965-266d900407f3",
   "metadata": {},
   "source": [
    "Look ma, no integers! This also means that our use of `.loc` will have to change. Let's try for one of my favorites:"
   ]
  },
  {
   "cell_type": "code",
   "execution_count": 28,
   "id": "3696fdcb-7d4c-4264-8d0e-8e2cfa3b5943",
   "metadata": {},
   "outputs": [
    {
     "data": {
      "text/plain": [
       "Status                                                 Candidate\n",
       "Description    An issue was discovered in Citrix Application ...\n",
       "References     CERT-VN:VU#619785   |   URL:https://www.kb.cer...\n",
       "Phase                                        Assigned (20191213)\n",
       "Votes                          None (candidate not yet proposed)\n",
       "Comments                                                     NaN\n",
       "Name: CVE-2019-19781, dtype: object"
      ]
     },
     "execution_count": 28,
     "metadata": {},
     "output_type": "execute_result"
    }
   ],
   "source": [
    "cve_idx_df.loc[\"CVE-2019-19781\"]"
   ]
  },
  {
   "cell_type": "markdown",
   "id": "c8ad1784-5b4f-4ef1-b091-129e352c1384",
   "metadata": {},
   "source": [
    "Aw yiss.\n",
    "\n",
    "Why don't you try looking for _your_ favorite CVEs with `.loc`?"
   ]
  },
  {
   "cell_type": "code",
   "execution_count": null,
   "id": "29506a32-5fe4-44f1-a6b5-64d84bbb58db",
   "metadata": {},
   "outputs": [],
   "source": [
    "# Look for your favorite CVEs here! Try to get just the Name and Description columns\n",
    "cve_idx_df.loc[]"
   ]
  },
  {
   "cell_type": "markdown",
   "id": "11b5c355-f56d-4cdd-aaf8-d5200555b7c0",
   "metadata": {},
   "source": [
    "## Series\n",
    "\n",
    "Take a DataFrame and smash it apart, what would you get? Series! Each column is a Series, but don't think of them as just glorified lists. Each Series has many of the same capabilities as a DataFrame—they even have their own Index!\n",
    "\n",
    "We can access Series/columns a bunch of different syntaxes. We can use a `dict`-like square brace syntax..."
   ]
  },
  {
   "cell_type": "code",
   "execution_count": 31,
   "id": "1e5e637d-8bdb-4c27-a977-8c8e84c01b51",
   "metadata": {},
   "outputs": [
    {
     "data": {
      "text/plain": [
       "0          CVE-1999-0001\n",
       "1          CVE-1999-0002\n",
       "2          CVE-1999-0003\n",
       "3          CVE-1999-0004\n",
       "4          CVE-1999-0005\n",
       "               ...      \n",
       "253429    CVE-2023-21414\n",
       "253430    CVE-2023-21415\n",
       "253431    CVE-2023-21416\n",
       "253432    CVE-2023-21417\n",
       "253433    CVE-2023-21418\n",
       "Name: Name, Length: 253434, dtype: object"
      ]
     },
     "execution_count": 31,
     "metadata": {},
     "output_type": "execute_result"
    }
   ],
   "source": [
    "df[\"Name\"]"
   ]
  },
  {
   "cell_type": "markdown",
   "id": "ddc80286-624e-495a-9a15-28fa31d885a5",
   "metadata": {},
   "source": [
    "...a list of them will work as well:"
   ]
  },
  {
   "cell_type": "code",
   "execution_count": 32,
   "id": "ce1efcea-74ba-423f-baaa-1a9ebdee60dc",
   "metadata": {},
   "outputs": [
    {
     "data": {
      "text/html": [
       "<div>\n",
       "<style scoped>\n",
       "    .dataframe tbody tr th:only-of-type {\n",
       "        vertical-align: middle;\n",
       "    }\n",
       "\n",
       "    .dataframe tbody tr th {\n",
       "        vertical-align: top;\n",
       "    }\n",
       "\n",
       "    .dataframe thead th {\n",
       "        text-align: right;\n",
       "    }\n",
       "</style>\n",
       "<table border=\"1\" class=\"dataframe\">\n",
       "  <thead>\n",
       "    <tr style=\"text-align: right;\">\n",
       "      <th></th>\n",
       "      <th>Name</th>\n",
       "      <th>Description</th>\n",
       "    </tr>\n",
       "  </thead>\n",
       "  <tbody>\n",
       "    <tr>\n",
       "      <th>0</th>\n",
       "      <td>CVE-1999-0001</td>\n",
       "      <td>ip_input.c in BSD-derived TCP/IP implementatio...</td>\n",
       "    </tr>\n",
       "    <tr>\n",
       "      <th>1</th>\n",
       "      <td>CVE-1999-0002</td>\n",
       "      <td>Buffer overflow in NFS mountd gives root acces...</td>\n",
       "    </tr>\n",
       "    <tr>\n",
       "      <th>2</th>\n",
       "      <td>CVE-1999-0003</td>\n",
       "      <td>Execute commands as root via buffer overflow i...</td>\n",
       "    </tr>\n",
       "    <tr>\n",
       "      <th>3</th>\n",
       "      <td>CVE-1999-0004</td>\n",
       "      <td>MIME buffer overflow in email clients, e.g. So...</td>\n",
       "    </tr>\n",
       "    <tr>\n",
       "      <th>4</th>\n",
       "      <td>CVE-1999-0005</td>\n",
       "      <td>Arbitrary command execution via IMAP buffer ov...</td>\n",
       "    </tr>\n",
       "    <tr>\n",
       "      <th>...</th>\n",
       "      <td>...</td>\n",
       "      <td>...</td>\n",
       "    </tr>\n",
       "    <tr>\n",
       "      <th>253429</th>\n",
       "      <td>CVE-2023-21414</td>\n",
       "      <td>** RESERVED ** This candidate has been reserve...</td>\n",
       "    </tr>\n",
       "    <tr>\n",
       "      <th>253430</th>\n",
       "      <td>CVE-2023-21415</td>\n",
       "      <td>** RESERVED ** This candidate has been reserve...</td>\n",
       "    </tr>\n",
       "    <tr>\n",
       "      <th>253431</th>\n",
       "      <td>CVE-2023-21416</td>\n",
       "      <td>** RESERVED ** This candidate has been reserve...</td>\n",
       "    </tr>\n",
       "    <tr>\n",
       "      <th>253432</th>\n",
       "      <td>CVE-2023-21417</td>\n",
       "      <td>** RESERVED ** This candidate has been reserve...</td>\n",
       "    </tr>\n",
       "    <tr>\n",
       "      <th>253433</th>\n",
       "      <td>CVE-2023-21418</td>\n",
       "      <td>** RESERVED ** This candidate has been reserve...</td>\n",
       "    </tr>\n",
       "  </tbody>\n",
       "</table>\n",
       "<p>253434 rows × 2 columns</p>\n",
       "</div>"
      ],
      "text/plain": [
       "                  Name                                        Description\n",
       "0        CVE-1999-0001  ip_input.c in BSD-derived TCP/IP implementatio...\n",
       "1        CVE-1999-0002  Buffer overflow in NFS mountd gives root acces...\n",
       "2        CVE-1999-0003  Execute commands as root via buffer overflow i...\n",
       "3        CVE-1999-0004  MIME buffer overflow in email clients, e.g. So...\n",
       "4        CVE-1999-0005  Arbitrary command execution via IMAP buffer ov...\n",
       "...                ...                                                ...\n",
       "253429  CVE-2023-21414  ** RESERVED ** This candidate has been reserve...\n",
       "253430  CVE-2023-21415  ** RESERVED ** This candidate has been reserve...\n",
       "253431  CVE-2023-21416  ** RESERVED ** This candidate has been reserve...\n",
       "253432  CVE-2023-21417  ** RESERVED ** This candidate has been reserve...\n",
       "253433  CVE-2023-21418  ** RESERVED ** This candidate has been reserve...\n",
       "\n",
       "[253434 rows x 2 columns]"
      ]
     },
     "execution_count": 32,
     "metadata": {},
     "output_type": "execute_result"
    }
   ],
   "source": [
    "df[[\"Name\", \"Description\"]]"
   ]
  },
  {
   "cell_type": "markdown",
   "id": "8d94b673-c6c0-4c0d-a7f0-357652c95868",
   "metadata": {},
   "source": [
    "Or we can use a dot notation, if there are no spaces in the column name:"
   ]
  },
  {
   "cell_type": "code",
   "execution_count": 35,
   "id": "dd318374-aa64-4c4e-841c-8168cec85566",
   "metadata": {},
   "outputs": [
    {
     "data": {
      "text/plain": [
       "0          CVE-1999-0001\n",
       "1          CVE-1999-0002\n",
       "2          CVE-1999-0003\n",
       "3          CVE-1999-0004\n",
       "4          CVE-1999-0005\n",
       "               ...      \n",
       "253429    CVE-2023-21414\n",
       "253430    CVE-2023-21415\n",
       "253431    CVE-2023-21416\n",
       "253432    CVE-2023-21417\n",
       "253433    CVE-2023-21418\n",
       "Name: Name, Length: 253434, dtype: object"
      ]
     },
     "execution_count": 35,
     "metadata": {},
     "output_type": "execute_result"
    }
   ],
   "source": [
    "df.Name"
   ]
  },
  {
   "cell_type": "markdown",
   "id": "1a6a98e3-cc68-4be9-8f57-73635e62e960",
   "metadata": {},
   "source": [
    "Note that these are printing with an integer column. That's because Series also have an Index, which you normally don't want to mess with. But it's there!\n",
    "\n",
    "Just take a look at everything a [Series](https://pandas.pydata.org/docs/reference/series.html) has inside of it to give you an idea of the capabilities here."
   ]
  },
  {
   "cell_type": "markdown",
   "id": "6d05840f-4ec1-4b13-a81e-da6626bbdcec",
   "metadata": {},
   "source": [
    "## Check For Understanding\n",
    "\n",
    "These won't be tested, but try these challenges yourself to see if you have grasped DataFrames and the basics of data access.\n",
    "\n",
    "1. Use `.iloc` on `df` to access the `Description` and `Comments` columns of rows `30-40`.\n",
    "2. Use `.loc` to find the details on the Follina vulnerability. No, I won't tell you the CVE. Go find it!\n",
    "3. Access just the `Comments` Series using dot notation.\n",
    "4. Access the `Name` and `Votes` Series using brace notation."
   ]
  },
  {
   "cell_type": "markdown",
   "id": "5b4dc2e5-07cb-4279-9e1d-04d6278f1ee9",
   "metadata": {},
   "source": [
    "And that'll do it for this intro to Pandas! Up next, filtering and data aggregation!"
   ]
  }
 ],
 "metadata": {
  "kernelspec": {
   "display_name": "Python 3 (ipykernel)",
   "language": "python",
   "name": "python3"
  },
  "language_info": {
   "codemirror_mode": {
    "name": "ipython",
    "version": 3
   },
   "file_extension": ".py",
   "mimetype": "text/x-python",
   "name": "python",
   "nbconvert_exporter": "python",
   "pygments_lexer": "ipython3",
   "version": "3.10.6"
  }
 },
 "nbformat": 4,
 "nbformat_minor": 5
}
