{
 "cells": [
  {
   "cell_type": "markdown",
   "id": "3977c2ce-8301-4d6c-ada9-ae4b5aa4fd07",
   "metadata": {},
   "source": [
    "## 3-2: CSVs\n",
    "\n",
    "Comma Separated Value files are probably the single most common file format you'll work with when parsing data. You'll also encounter a lot of PDFs, but PDFs are not a file format; they are torment engines meant to visit suffering upon the human race. So for now, we'll stick with CSVs.\n",
    "\n",
    "Are CSVs that complex? Not really. They're lines of text with fields separated by commas. We could make do with the tools we've already learned, but we don't have to. Turns out that Python has a fantastic `csv` module that makes working with this file type incredibly simple.\n",
    "\n",
    "For this exercise, I've provided a CSV of ransomware IOCs, sourced directly from [US-CERT #StopRansomware alerts](https://www.cisa.gov/uscert/ncas/alerts).\n",
    "\n",
    "Let's take a quick look with the shell command `head`."
   ]
  },
  {
   "cell_type": "code",
   "execution_count": 2,
   "id": "a9a63f7c-8779-4298-9517-a1b574730add",
   "metadata": {},
   "outputs": [
    {
     "name": "stdout",
     "output_type": "stream",
     "text": [
      "Indicator,Type,Ransomware Family\n",
      "5.255.99[.]59,IP,Vice Society\n",
      "5.161.136[.]176,IP,Vice Society\n",
      "198.252.98[.]184,IP,Vice Society\n",
      "194.34.246[.]90,IP,Vice Society\n",
      "a0ee0761602470e24bcea5f403e8d1e8bfa29832,SHA1,Vice Society\n",
      "3122ea585623531df2e860e7d0df0f25cce39b21,SHA1,Vice Society\n",
      "41dc0ba220f30c70aea019de214eccd650bc6f37,SHA1,Vice Society\n",
      "c9c2b6a5b930392b98f132f5395d54947391cb79,SHA1,Vice Society\n",
      "001938ed01bfde6b100927ff8199c65d1bff30381b80b846f2e3fe5a0d2df21d,SHA256,Zeppelin\n"
     ]
    }
   ],
   "source": [
    "!head ransomware_iocs.csv"
   ]
  },
  {
   "cell_type": "markdown",
   "id": "7e10ba46-b2c9-45f0-92e5-2c3c6515354d",
   "metadata": {},
   "source": [
    "So we have a header row showing us 3 columns: `Indicator`, `Type`, and `Ransomware Family`. \n",
    "\n",
    "You might be thinking we could use our `Indicator` class from Part 1 to give these some structure when we import them. And you're not wrong! But let's focus on the CSV itself for now.\n",
    "\n",
    "To work with these files in Python, we'll begin by importing the `csv` module. Then we'll use the `dir()` function to see what's inside."
   ]
  },
  {
   "cell_type": "code",
   "execution_count": 3,
   "id": "075d909d-ea1a-47d5-a92f-4fffe3faf602",
   "metadata": {},
   "outputs": [
    {
     "data": {
      "text/plain": [
       "['Dialect',\n",
       " 'DictReader',\n",
       " 'DictWriter',\n",
       " 'Error',\n",
       " 'QUOTE_ALL',\n",
       " 'QUOTE_MINIMAL',\n",
       " 'QUOTE_NONE',\n",
       " 'QUOTE_NONNUMERIC',\n",
       " 'Sniffer',\n",
       " 'StringIO',\n",
       " '_Dialect',\n",
       " '__all__',\n",
       " '__builtins__',\n",
       " '__cached__',\n",
       " '__doc__',\n",
       " '__file__',\n",
       " '__loader__',\n",
       " '__name__',\n",
       " '__package__',\n",
       " '__spec__',\n",
       " '__version__',\n",
       " 'excel',\n",
       " 'excel_tab',\n",
       " 'field_size_limit',\n",
       " 'get_dialect',\n",
       " 'list_dialects',\n",
       " 're',\n",
       " 'reader',\n",
       " 'register_dialect',\n",
       " 'unix_dialect',\n",
       " 'unregister_dialect',\n",
       " 'writer']"
      ]
     },
     "execution_count": 3,
     "metadata": {},
     "output_type": "execute_result"
    }
   ],
   "source": [
    "# Import the csv module\n",
    "import csv\n",
    "\n",
    "# Let's inspect it\n",
    "dir(csv)"
   ]
  },
  {
   "cell_type": "markdown",
   "id": "dd9d3335-8991-4e81-a6ae-e2068e6a096e",
   "metadata": {},
   "source": [
    "## Reading\n",
    "\n",
    "There's a lot going on, but of particular interest* to us are the following classes and functions:\n",
    "\n",
    "* `reader()`: Produces a generic CSV reader from a file object\n",
    "* `writer()`: Produces a generic CSV writer from a file object\n",
    "* `DictReader()`: Produces a reader that uses dictionaries to maintain headers\n",
    "* `DictWriter()`: Produces a writer that writes using dictionaries for headers\n",
    "\n",
    "Readers are iterators over the rows \n",
    "\n",
    "As always, this will make more sense in context. We use the readers and writers in the `with` block.\n",
    "\n",
    "\n",
    "_* Yes I see the `excel` options. I don't care because working with Excel files is awful. Plain text 4 Lyfe._"
   ]
  },
  {
   "cell_type": "code",
   "execution_count": 10,
   "id": "abf7c9a3-4741-4bf1-99f3-972242bbfdd8",
   "metadata": {},
   "outputs": [
    {
     "data": {
      "text/plain": [
       "[['Indicator', 'Type', 'Ransomware Family'],\n",
       " ['5.255.99[.]59', 'IP', 'Vice Society'],\n",
       " ['5.161.136[.]176', 'IP', 'Vice Society'],\n",
       " ['198.252.98[.]184', 'IP', 'Vice Society'],\n",
       " ['194.34.246[.]90', 'IP', 'Vice Society'],\n",
       " ['a0ee0761602470e24bcea5f403e8d1e8bfa29832', 'SHA1', 'Vice Society'],\n",
       " ['3122ea585623531df2e860e7d0df0f25cce39b21', 'SHA1', 'Vice Society'],\n",
       " ['41dc0ba220f30c70aea019de214eccd650bc6f37', 'SHA1', 'Vice Society'],\n",
       " ['c9c2b6a5b930392b98f132f5395d54947391cb79', 'SHA1', 'Vice Society'],\n",
       " ['001938ed01bfde6b100927ff8199c65d1bff30381b80b846f2e3fe5a0d2df21d',\n",
       "  'SHA256',\n",
       "  'Zeppelin']]"
      ]
     },
     "execution_count": 10,
     "metadata": {},
     "output_type": "execute_result"
    }
   ],
   "source": [
    "# Get data with a basic reader()\n",
    "\n",
    "with open(\"ransomware_iocs.csv\") as f:\n",
    "    iocs = [row for row in csv.reader(f)]\n",
    "\n",
    "# Check out the first 10\n",
    "iocs[0:10]"
   ]
  },
  {
   "cell_type": "markdown",
   "id": "d9717d23-389f-4b9b-8263-91df01ba5f12",
   "metadata": {},
   "source": [
    "So what did we get? We got ourselves a list of lists. So the `csv.reader` broke down the file and split each row into a list of values. Do note that the header is included as the first row, so if you're expect just the data, you'll want to slice off the first element, like `iocs[1:]`.\n",
    "\n",
    "Now let's see how `DictReader` works."
   ]
  },
  {
   "cell_type": "code",
   "execution_count": 15,
   "id": "e268e489-0701-43e8-810b-314d7c0e10ae",
   "metadata": {},
   "outputs": [
    {
     "data": {
      "text/plain": [
       "[{'Indicator': '5.255.99[.]59',\n",
       "  'Type': 'IP',\n",
       "  'Ransomware Family': 'Vice Society'},\n",
       " {'Indicator': '5.161.136[.]176',\n",
       "  'Type': 'IP',\n",
       "  'Ransomware Family': 'Vice Society'},\n",
       " {'Indicator': '198.252.98[.]184',\n",
       "  'Type': 'IP',\n",
       "  'Ransomware Family': 'Vice Society'},\n",
       " {'Indicator': '194.34.246[.]90',\n",
       "  'Type': 'IP',\n",
       "  'Ransomware Family': 'Vice Society'},\n",
       " {'Indicator': 'a0ee0761602470e24bcea5f403e8d1e8bfa29832',\n",
       "  'Type': 'SHA1',\n",
       "  'Ransomware Family': 'Vice Society'},\n",
       " {'Indicator': '3122ea585623531df2e860e7d0df0f25cce39b21',\n",
       "  'Type': 'SHA1',\n",
       "  'Ransomware Family': 'Vice Society'},\n",
       " {'Indicator': '41dc0ba220f30c70aea019de214eccd650bc6f37',\n",
       "  'Type': 'SHA1',\n",
       "  'Ransomware Family': 'Vice Society'},\n",
       " {'Indicator': 'c9c2b6a5b930392b98f132f5395d54947391cb79',\n",
       "  'Type': 'SHA1',\n",
       "  'Ransomware Family': 'Vice Society'},\n",
       " {'Indicator': '001938ed01bfde6b100927ff8199c65d1bff30381b80b846f2e3fe5a0d2df21d',\n",
       "  'Type': 'SHA256',\n",
       "  'Ransomware Family': 'Zeppelin'},\n",
       " {'Indicator': 'a42185d506e08160cb96c81801fbe173fb071f4a2f284830580541e057f4423b',\n",
       "  'Type': 'SHA256',\n",
       "  'Ransomware Family': 'Zeppelin'}]"
      ]
     },
     "execution_count": 15,
     "metadata": {},
     "output_type": "execute_result"
    }
   ],
   "source": [
    "# Get data with a DictReader()\n",
    "with open(\"ransomware_iocs.csv\") as f:\n",
    "    iocs = [row for row in csv.DictReader(f)]\n",
    "\n",
    "# Check out the first 10\n",
    "iocs[0:10]"
   ]
  },
  {
   "cell_type": "markdown",
   "id": "87a7e178-336d-4074-8282-a5837b958892",
   "metadata": {},
   "source": [
    "Whoah! So instead of a header row in our list, `DictReader` detected the header and used it as keys to create a list of `dict`s! \n",
    "\n",
    "This is almost always how I import CSVs. The `dict` provides just enough structure to be useful without needing the whole overhead of a class.\n",
    "\n",
    "Also, as we'll see in a later section, lists of keyed-alike `dict`s play very well with our data analysis library of choice."
   ]
  },
  {
   "cell_type": "markdown",
   "id": "214ccafd-0aaf-4246-90a4-6feac0e06d30",
   "metadata": {},
   "source": [
    "## Writing\n",
    "\n",
    "Writing is a very similar process. `writer()` expects a list of lists. You can either loop through the outer list and call `writer.writerow()`, or you can do them all at once with `writer.writerows()`. It depends on if you need to do any modification to the list before you write it.\n",
    "\n",
    "And `DictWriter?` Same deal, but it expects a list of keyed-alike `dict`s.\n",
    "\n",
    "Let's create some test data in both shapes to play with."
   ]
  },
  {
   "cell_type": "code",
   "execution_count": 21,
   "id": "60418f26-302c-455b-a5c9-0467a24e4ebe",
   "metadata": {},
   "outputs": [],
   "source": [
    "# Create sandbox data\n",
    "\n",
    "ship_list: [list] = [\n",
    "    [\"Name\", \"Registry\", \"Class\"],\n",
    "    [\"Enterprise\", \"NCC-1701\", \"Constitution\"],\n",
    "    [\"Reliant\", \"NCC-1864\", \"Miranda\"],\n",
    "    [\"Voyager\", \"NCC-74656\", \"Intrepid\"],\n",
    "    [\"Discovery\", \"NCC-1034\", \"Crossfield\"] \n",
    "]\n",
    "\n",
    "# If you think I'm writing that out twice you're crazy\n",
    "ship_dict: [dict] = [ {\"Name\": s[0], \"Registry\": s[1], \"Class\": s[2] } for s in ship_list[1:] ]"
   ]
  },
  {
   "cell_type": "markdown",
   "id": "4f4922c7-2c2b-4578-9929-7319558b17bf",
   "metadata": {},
   "source": [
    "You like that list comprehension `dict` creation? Yeah, that's the Python dorkery I love to do.\n",
    "\n",
    "Okay, let's write these out."
   ]
  },
  {
   "cell_type": "code",
   "execution_count": 30,
   "id": "6dcbbba1-9624-4b87-bf7f-01d83d213bc7",
   "metadata": {},
   "outputs": [
    {
     "name": "stdout",
     "output_type": "stream",
     "text": [
      "Name,Registry,Class\n",
      "Enterprise,NCC-1701,Constitution\n",
      "Reliant,NCC-1864,Miranda\n",
      "Voyager,NCC-74656,Intrepid\n",
      "Discovery,NCC-1034,Crossfield\n"
     ]
    }
   ],
   "source": [
    "# First, with the writer()\n",
    "\n",
    "with open(\"ships.csv\", \"w\") as f:\n",
    "    writer = csv.writer(f)\n",
    "    writer.writerows(ship_list)\n",
    "    \n",
    "# And check the results\n",
    "! cat ships.csv"
   ]
  },
  {
   "cell_type": "markdown",
   "id": "f93cbda8-4269-43d1-82af-6203ef4b99f6",
   "metadata": {},
   "source": [
    "Now `DictWriter` has a bit of a gotcha. It requires a `fieldnames` named argument. We can extract the fieldnames from any one of our `dicts` with the `.keys()` method.\n",
    "\n",
    "Additionally, if you want the header present, you need to separately call `.writeheader()` before `.writerows()`."
   ]
  },
  {
   "cell_type": "code",
   "execution_count": 32,
   "id": "ae0f3be4-d186-4270-96ce-51c2d650066c",
   "metadata": {},
   "outputs": [
    {
     "name": "stdout",
     "output_type": "stream",
     "text": [
      "Name,Registry,Class\n",
      "Enterprise,NCC-1701,Constitution\n",
      "Reliant,NCC-1864,Miranda\n",
      "Voyager,NCC-74656,Intrepid\n",
      "Discovery,NCC-1034,Crossfield\n"
     ]
    }
   ],
   "source": [
    "# Now with DictWriter()\n",
    "\n",
    "with open(\"ships.csv\", \"w\") as f:\n",
    "    # Get fieldnames from the first element\n",
    "    fieldnames = ship_dict[0].keys()\n",
    "    # Notice the named arg\n",
    "    writer = csv.DictWriter(f, fieldnames=fieldnames)\n",
    "    # Write the header, then the wrows\n",
    "    writer.writeheader()\n",
    "    writer.writerows(ship_dict)\n",
    "    \n",
    "# And check the results\n",
    "! cat ships.csv"
   ]
  },
  {
   "cell_type": "code",
   "execution_count": 33,
   "id": "b16b1cff-d0f8-45a4-aacf-5a4ece67cb34",
   "metadata": {},
   "outputs": [],
   "source": [
    "# Cleanup the folder\n",
    "! rm ships.csv"
   ]
  },
  {
   "cell_type": "markdown",
   "id": "da366f70-b991-4c8e-9074-d36e85d58d44",
   "metadata": {},
   "source": [
    "No dedicated check for understanding for this section, as we have more file formats to cover! But feel free to play a bit more with CSVs in another Notebook!"
   ]
  }
 ],
 "metadata": {
  "kernelspec": {
   "display_name": "Python 3 (ipykernel)",
   "language": "python",
   "name": "python3"
  },
  "language_info": {
   "codemirror_mode": {
    "name": "ipython",
    "version": 3
   },
   "file_extension": ".py",
   "mimetype": "text/x-python",
   "name": "python",
   "nbconvert_exporter": "python",
   "pygments_lexer": "ipython3",
   "version": "3.10.6"
  }
 },
 "nbformat": 4,
 "nbformat_minor": 5
}
