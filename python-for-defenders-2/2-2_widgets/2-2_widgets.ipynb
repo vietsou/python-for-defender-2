{
 "cells": [
  {
   "cell_type": "markdown",
   "id": "ff657239-77cc-484f-94f1-90e7991775a3",
   "metadata": {},
   "source": [
    "# 2-2: Widgets\n",
    "\n",
    "Notebooks are a kind of application. Granted, they don't have a traditional user interface, but in every other sense, they are an app: code repeatedly used by a person to perform a task, structured an organized for usability.\n",
    "\n",
    "It will frequently be the case that users will have to provide variable inputs like uploaded files, text, etc. for the Notebook to run appropriately. While we _can_ use raw variable assignments or `input()` calls, we have a better way: [ipywidgets](https://github.com/jupyter-widgets/ipywidgets).\n",
    "\n",
    "Let's get them imported."
   ]
  },
  {
   "cell_type": "code",
   "execution_count": 2,
   "id": "c6903e16-98a8-45de-a248-a6a16cbbc99b",
   "metadata": {},
   "outputs": [],
   "source": [
    "# Import widgets and give them a nice name\n",
    "import ipywidgets as widgets"
   ]
  },
  {
   "cell_type": "markdown",
   "id": "721f29c8-cd93-4adc-9c32-08092887d6cd",
   "metadata": {},
   "source": [
    "## Basic Usage\n",
    "\n",
    "Widgets allow us to provide easy-to-use UI components in a Notebook for changing common parameters. But from a code perspective, they get a little funky. Lemme show you. We'll start by making a slider that can set an integer value."
   ]
  },
  {
   "cell_type": "code",
   "execution_count": 3,
   "id": "e37857bc-015e-46ec-8444-5bffb125f9fa",
   "metadata": {},
   "outputs": [
    {
     "data": {
      "application/vnd.jupyter.widget-view+json": {
       "model_id": "cc10416d25a24c3c8a0d0284554def25",
       "version_major": 2,
       "version_minor": 0
      },
      "text/plain": [
       "IntSlider(value=0)"
      ]
     },
     "metadata": {},
     "output_type": "display_data"
    }
   ],
   "source": [
    "widgets.IntSlider(min=0, max=100)"
   ]
  },
  {
   "cell_type": "markdown",
   "id": "55ad9b6a-fe08-4263-9eb3-1fc2b2e19bf0",
   "metadata": {},
   "source": [
    "Cool, right? But how do you actually get that value and use it? That's where it gets a little trickier. In order to access the `value` within the object created by Widget methods, we need to assign the widget to a variable. But when we do, the widget no longer actually displays. For that reason, we need to also import another function from the `IPython.display` module: `display()`.\n",
    "\n",
    "**Fun Fact: IPython, or Interactive Python, was Jupyter's precursor!**"
   ]
  },
  {
   "cell_type": "code",
   "execution_count": 11,
   "id": "e3161443-0d67-4a13-b8a9-5b469a614a4e",
   "metadata": {},
   "outputs": [],
   "source": [
    "# Import display\n",
    "from IPython.display import display"
   ]
  },
  {
   "cell_type": "markdown",
   "id": "1625c849-9b76-4335-9bef-218a55fc932f",
   "metadata": {},
   "source": [
    "Now that we have the `display()` function, we can both show our widget and grab the value."
   ]
  },
  {
   "cell_type": "code",
   "execution_count": 12,
   "id": "c1e3da0e-7eda-4610-88d1-56922eee299b",
   "metadata": {
    "tags": []
   },
   "outputs": [
    {
     "data": {
      "application/vnd.jupyter.widget-view+json": {
       "model_id": "6c9b50aad2924eceb981059546e3481f",
       "version_major": 2,
       "version_minor": 0
      },
      "text/plain": [
       "IntSlider(value=0)"
      ]
     },
     "metadata": {},
     "output_type": "display_data"
    }
   ],
   "source": [
    "w = widgets.IntSlider(min=0, max=100)\n",
    "display(w)"
   ]
  },
  {
   "cell_type": "code",
   "execution_count": 31,
   "id": "c107d45d-e0c3-4d71-ad9a-eae0520b8b80",
   "metadata": {},
   "outputs": [
    {
     "name": "stdout",
     "output_type": "stream",
     "text": [
      "66\n"
     ]
    }
   ],
   "source": [
    "# Print the value of the widget\n",
    "print(w.value)"
   ]
  },
  {
   "cell_type": "markdown",
   "id": "1daa9c86-411d-4e30-96d0-c0780de467ca",
   "metadata": {},
   "source": [
    "By the way, have you clicked on that sidebar next to the cell yet? With it or the `View->Collapse` options, you can hide code or outputs for a given cell. For widgets, that means you can just show the widget without having to show the code that makes it!"
   ]
  },
  {
   "cell_type": "markdown",
   "id": "0e0943cf-610d-43af-b4e8-379dc782be41",
   "metadata": {},
   "source": [
    "## Other Widgets\n",
    "\n",
    "Let's explore some of the other widgets and how they work. This will by no means be a comprehensive review of every widget. I encourage you to review the [Widget List](https://ipywidgets.readthedocs.io/en/stable/examples/Widget%20List.html) from the Jupyter Widgets documentation, as well as the rest of those docs. But for now, enjoy these samples!"
   ]
  },
  {
   "cell_type": "markdown",
   "id": "c61337fa-6a9a-4169-afda-e735dd28bf95",
   "metadata": {},
   "source": [
    "### Progress Bar (`IntProgress` and `FloatProgress`)\n",
    "\n",
    "The Progress Bar is a fun way to allow a user to track the status of a long-running process. This also provide an opportunity to introduce the concept of **named parameters** in functions. We've already seen `min` and `max` for the `IntSlider`. Functions can take position parameters, identified by their order in the function call, or named parameters, which can be identified by name and have default values. For `IntProgress` and `FloatProgress`, we have a number of options to set. Check them out."
   ]
  },
  {
   "cell_type": "code",
   "execution_count": 26,
   "id": "10099da8-2d0e-4dad-9d26-5960ef8ccd8e",
   "metadata": {},
   "outputs": [
    {
     "data": {
      "application/vnd.jupyter.widget-view+json": {
       "model_id": "1012baa71568409faf3dec81166a4c67",
       "version_major": 2,
       "version_minor": 0
      },
      "text/plain": [
       "IntProgress(value=0, description='Loading:', style=ProgressStyle(bar_color='magenta'))"
      ]
     },
     "metadata": {},
     "output_type": "display_data"
    }
   ],
   "source": [
    "# Look at all the options we can set!\n",
    "progress_bar = widgets.IntProgress(\n",
    "    value=0,\n",
    "    min=0,\n",
    "    max=100,\n",
    "    description='Loading:',\n",
    "    bar_style='', # 'success', 'info', 'warning', 'danger' or ''\n",
    "    style={'bar_color': 'magenta'},\n",
    "    orientation='horizontal'\n",
    ")\n",
    "display(progress_bar)"
   ]
  },
  {
   "cell_type": "markdown",
   "id": "9ac4f1a4-c89e-4ccb-805c-65da68b7a975",
   "metadata": {},
   "source": [
    "We can use the `time.sleep()` function to simulate a process taking time, and updating the bar's status to reflect that."
   ]
  },
  {
   "cell_type": "code",
   "execution_count": 30,
   "id": "6f414b4a-a38e-4267-aed5-34bbc8433adb",
   "metadata": {},
   "outputs": [],
   "source": [
    "# Set initial value for each run of this cell\n",
    "progress_bar.value = 0\n",
    "progress_bar.bar_style = \"\"\n",
    "progress_bar.description = \"Loading:\"\n",
    "\n",
    "# Import our sleep() function\n",
    "# sleep(n) pauses execution for n seconds\n",
    "from time import sleep\n",
    "\n",
    "# Add 10 every second until we reach 100\n",
    "while progress_bar.value < 100:\n",
    "    progress_bar.value += 10\n",
    "    sleep(1)\n",
    "\n",
    "# Change the style and text for the bar upon completion\n",
    "progress_bar.description = \"Complete!\""
   ]
  },
  {
   "cell_type": "markdown",
   "id": "d187dd22-9196-4295-8768-354f9dfacb66",
   "metadata": {},
   "source": [
    "### Dropdown\n",
    "\n",
    "When you have multiple options to choose from, you in fact have multiple widget options to choose from! One is the `Dropdown` widget. Works as you might expect:"
   ]
  },
  {
   "cell_type": "code",
   "execution_count": 49,
   "id": "86360fc2-4384-4a2b-bb5b-89ebd4e81959",
   "metadata": {},
   "outputs": [
    {
     "data": {
      "application/vnd.jupyter.widget-view+json": {
       "model_id": "bcc3e74ce3b34e65930fd2a455cbeb3a",
       "version_major": 2,
       "version_minor": 0
      },
      "text/plain": [
       "Dropdown(description='Select a Ship:', layout=Layout(width='max-content'), options=('Enterprise', 'Hood', 'Rel…"
      ]
     },
     "metadata": {},
     "output_type": "display_data"
    }
   ],
   "source": [
    "# Create the options list (can do this inline, but I like this more)\n",
    "ships = [\"Enterprise\", \"Hood\", \"Reliant\", \"Excelsior\", \"Grissom\"]\n",
    "\n",
    "# Create the dropdown\n",
    "dropdown = widgets.Dropdown(\n",
    "    options=ships,\n",
    "    value='Enterprise',\n",
    "    description='Select a Ship:',\n",
    "    disabled=False,\n",
    "    layout = {\"width\": \"max-content\"}, # For long item names,\n",
    "    style={\"description_width\": \"max-content\"} # For long description labels\n",
    ")\n",
    "display(dropdown)"
   ]
  },
  {
   "cell_type": "code",
   "execution_count": 53,
   "id": "3905e610-2945-4dc0-8852-b179529961ef",
   "metadata": {},
   "outputs": [
    {
     "name": "stdout",
     "output_type": "stream",
     "text": [
      "You selected Reliant.\n"
     ]
    }
   ],
   "source": [
    "print(f\"You selected {dropdown.value}.\")"
   ]
  },
  {
   "cell_type": "markdown",
   "id": "90c91a66-5649-4075-8d93-35886203650c",
   "metadata": {},
   "source": [
    "### Buttons\n",
    "\n",
    "Running cells is great and all, but this is the 21st century! The age of the atom! We've walked on the moon! Cars drive themselves very poorly!\n",
    "\n",
    "Anyway, since we're in the pushbutton age, why not...push some buttons to trigger events? With the Button widget, you can connect a Button to a function you've defined. That means you can run code with a more controlled click than running cells raw.\n",
    "\n",
    "Now, to show output from click events, we need to use another widget as well: The Output widget. Additionally, you'll notice a new syntax here: `with`. This is syntactic sugar that simplifies common open/close procedures. In this case, we use it to use the Output widget as the destination for a `print()` invocation.\n",
    "\n",
    "Note that we have to display _both_ the Button and the Output widget for this to work! UI programming is fun, innit?\n",
    "\n",
    "\n",
    "Play with this one!"
   ]
  },
  {
   "cell_type": "code",
   "execution_count": 71,
   "id": "632d1323-cbba-4c97-b18e-f738ce21c145",
   "metadata": {},
   "outputs": [
    {
     "data": {
      "application/vnd.jupyter.widget-view+json": {
       "model_id": "9cde3c30161e490093cfcbe5b3975ede",
       "version_major": 2,
       "version_minor": 0
      },
      "text/plain": [
       "Button(description='Click me', icon='atom', style=ButtonStyle(), tooltip='Click me')"
      ]
     },
     "metadata": {},
     "output_type": "display_data"
    },
    {
     "data": {
      "application/vnd.jupyter.widget-view+json": {
       "model_id": "9dd409fe34d64c1487bbe6c799fbfb4d",
       "version_major": 2,
       "version_minor": 0
      },
      "text/plain": [
       "Output()"
      ]
     },
     "metadata": {},
     "output_type": "display_data"
    }
   ],
   "source": [
    "# Define the Output\n",
    "output = widgets.Output()\n",
    "\n",
    "# Define the button click handler.\n",
    "# Note the btn argument, which the button will provide to the on_click function\n",
    "def button_event(btn):\n",
    "    with output:\n",
    "        print(\"I came from a button!\")\n",
    "\n",
    "# Define the Button\n",
    "button = widgets.Button(\n",
    "    description=\"Click me\",\n",
    "    disabled=False,\n",
    "    button_style='', # 'success', 'info', 'warning', 'danger' or ''\n",
    "    tooltip=\"Click me\",\n",
    "    icon=\"atom\", # (FontAwesome names without the `fa-` prefix)\n",
    ")\n",
    "\n",
    "# We have to display both the Button and the Output\n",
    "display(button, output)\n",
    "\n",
    "\n",
    "# Set the on_click _AFTER_ displaying\n",
    "button.on_click(button_event)"
   ]
  },
  {
   "cell_type": "markdown",
   "id": "59060c63-5091-4feb-901e-aecc743aee19",
   "metadata": {},
   "source": [
    "## Check For Understanding\n",
    "\n",
    "The nature of this check means we can't do an automatic test, so please do your best to complete this challenge!\n",
    "\n",
    "### Objectives\n",
    "\n",
    "1. Using Widgets either described here or from the Jupyter Widgets docs, create a small app that uses our Indicator module from Part 1. \n",
    "2. Allow the user to input text, then select whether it is a Domain, IPV4, or URL\n",
    "3. Have a \"Defang\" button that returns the defanged value.\n",
    "\n",
    "You will almost certainly have to consult the external docs to make this happen. Take your time and use this opportunity to practice with everything we've covered so far."
   ]
  }
 ],
 "metadata": {
  "kernelspec": {
   "display_name": "Python 3 (ipykernel)",
   "language": "python",
   "name": "python3"
  },
  "language_info": {
   "codemirror_mode": {
    "name": "ipython",
    "version": 3
   },
   "file_extension": ".py",
   "mimetype": "text/x-python",
   "name": "python",
   "nbconvert_exporter": "python",
   "pygments_lexer": "ipython3",
   "version": "3.10.6"
  }
 },
 "nbformat": 4,
 "nbformat_minor": 5
}
