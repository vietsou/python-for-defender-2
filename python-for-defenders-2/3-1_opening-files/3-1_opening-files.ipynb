{
 "cells": [
  {
   "cell_type": "markdown",
   "id": "d92613d6-5150-4cf6-883c-4ff111179ae9",
   "metadata": {},
   "source": [
    "# 3-1: Opening Files\n",
    "\n",
    "It might seem a little silly to cover opening files _after_ going through all that work with widgets. But there are going to be plenty of times when we want to open files without a widget. Widgetlessly. That's an adverb now.\n",
    "\n",
    "## Plaintext vs. Binary\n",
    "\n",
    "Most of the files we'll deal with are **plaintext** files. Put another way, files we can read with `cat` or a simple text editor. That's the kind of file we'll be focusing on in this lesson. There are plenty of modules that allow us to manipulate more complex filetypes like PDFs or images, but we'll get to those later."
   ]
  },
  {
   "cell_type": "markdown",
   "id": "91d3686a-bbaa-466d-9e14-ac4b7beda4e1",
   "metadata": {},
   "source": [
    "## `open()` and `close()`\n",
    "\n",
    "Python has a built-in function called `open()` that will access the data at a given path on the filesystem. Open has a few optional arguments, but to simply read a plaintext file, we can simply use `open(<path>)`. You might think this would automatically give us `str` or `bytes` data, but nope! This creates a `TextIOWrapper` object which has additional methods to access its contents. `read()`, for example, will read in the content as a `str`.\n",
    "\n",
    "Once we've finished doing whatever we want with the file, we would call the `close()` method on the IOWrapper to clean up. Check it out."
   ]
  },
  {
   "cell_type": "code",
   "execution_count": 1,
   "id": "43414f74-cfcd-44b4-b089-78d42028c6dc",
   "metadata": {},
   "outputs": [
    {
     "data": {
      "text/plain": [
       "'example.com\\n192.168.9.10\\nhttps://example.com\\n'"
      ]
     },
     "execution_count": 1,
     "metadata": {},
     "output_type": "execute_result"
    }
   ],
   "source": [
    "# Opening and reading files the long way with open() and close()\n",
    "f = open(\"indicators.txt\")\n",
    "data:str = f.read()\n",
    "f.close()\n",
    "data"
   ]
  },
  {
   "cell_type": "markdown",
   "id": "4114a468-d6e7-4d44-ad61-fb60d7a1cb94",
   "metadata": {},
   "source": [
    "## The Shortcuts: `with` and `readlines()`\n",
    "\n",
    "If this seems like it's setting us up for a bunch of extra work...it kinda is. Luckily, Python has a few more tricks to make working with files a bit easier.\n",
    "\n",
    "The `with` syntax allows us to open the file and have it automatically closed after we've finished with whatever we want in the `with` block. This structure is for designating temporary resources for a block of code. However, any variables we make inside this block are _not_ temporary.\n",
    "\n",
    "Another handy method I use is `readlines()`. Where `read()` will produce a single string of data from a file, `readlines()` will produce a list of strings representing the lines of a plaintext file."
   ]
  },
  {
   "cell_type": "code",
   "execution_count": 2,
   "id": "e8ef4de8-2253-47f4-91ab-2f74ecddefd1",
   "metadata": {},
   "outputs": [
    {
     "data": {
      "text/plain": [
       "['example.com\\n', '192.168.9.10\\n', 'https://example.com\\n']"
      ]
     },
     "execution_count": 2,
     "metadata": {},
     "output_type": "execute_result"
    }
   ],
   "source": [
    "# Getting lines the quick way\n",
    "# Note the with...as syntax\n",
    "with open(\"indicators.txt\") as f:\n",
    "    data: [str] = f.readlines()\n",
    "\n",
    "# And outside of the with block, we still have data\n",
    "data"
   ]
  },
  {
   "cell_type": "markdown",
   "id": "bf23137a-fa96-4afd-ae7c-b535d7f49320",
   "metadata": {},
   "source": [
    "You may have noticed that our list items came with the `\\n` attached. That is going to be annoying later on, so my normal process of importing text data adds uses a list comprehension and the `strip()` method with `readlines()` to remove those trailing linebreaks."
   ]
  },
  {
   "cell_type": "code",
   "execution_count": 3,
   "id": "cad1f987-488e-4756-a70f-c5b766765a61",
   "metadata": {},
   "outputs": [
    {
     "data": {
      "text/plain": [
       "['example.com', '192.168.9.10', 'https://example.com']"
      ]
     },
     "execution_count": 3,
     "metadata": {},
     "output_type": "execute_result"
    }
   ],
   "source": [
    "# Same process, but with a list comprehension and .strip()\n",
    "with open(\"indicators.txt\") as f:\n",
    "    data: [str] = [l.strip() for l in f.readlines()]\n",
    "data"
   ]
  },
  {
   "cell_type": "markdown",
   "id": "17b5a06f-18fb-4985-bfd6-59c521a84215",
   "metadata": {},
   "source": [
    "Burn this pattern into your brain. You'll use it constantly."
   ]
  },
  {
   "cell_type": "markdown",
   "id": "58e2c17b-6049-43d9-8293-94d15901544c",
   "metadata": {},
   "source": [
    "## Writing Files\n",
    "\n",
    "We can use the same pattern to write files, but we need to give `open()` an additional argument: the open mode. By default, this is `\"r\"`, for read. However, we can also open in `\"w\"` for write, or `\"a\"` for write-append. What's the difference? Write will overwrite the contents of a file with new data, while write-append will add on to existing data. You can check out all the open modes in the [Python Docs](https://docs.python.org/3/library/functions.html#open).\n",
    "\n",
    "Either way, we can use the `.write()` method of the file object to send string data to the file.\n",
    "\n",
    "Let's try it out."
   ]
  },
  {
   "cell_type": "code",
   "execution_count": 4,
   "id": "ca8de1be-d35e-464a-9822-5beb7d38ac3d",
   "metadata": {},
   "outputs": [
    {
     "name": "stdout",
     "output_type": "stream",
     "text": [
      "I'm written first"
     ]
    }
   ],
   "source": [
    "# Write a file, then show the result\n",
    "msg_1: str = \"I'm written first\"\n",
    "msg_2: str = \"I'm written second\"\n",
    "\n",
    "with open(\"example.txt\", \"w\") as f:\n",
    "    f.write(msg_1)\n",
    "    \n",
    "!cat example.txt"
   ]
  },
  {
   "cell_type": "code",
   "execution_count": 5,
   "id": "4a52302c-2f0b-4ca5-9f15-5928df225620",
   "metadata": {},
   "outputs": [
    {
     "name": "stdout",
     "output_type": "stream",
     "text": [
      "I'm written second"
     ]
    }
   ],
   "source": [
    "# Now let's overwrite it\n",
    "with open(\"example.txt\", \"w\") as f:\n",
    "    f.write(msg_2)\n",
    "    \n",
    "!cat example.txt"
   ]
  },
  {
   "cell_type": "code",
   "execution_count": 6,
   "id": "8249eef4-52bc-4ae0-b00b-f3e1d6e449ed",
   "metadata": {},
   "outputs": [
    {
     "name": "stdout",
     "output_type": "stream",
     "text": [
      "I'm written secondI'm written first"
     ]
    }
   ],
   "source": [
    "# Append to a file\n",
    "with open(\"example.txt\", \"a\") as f:\n",
    "    f.write(msg_1)\n",
    "    \n",
    "!cat example.txt"
   ]
  },
  {
   "cell_type": "markdown",
   "id": "2d51b0bc-9ba9-4eb2-9be0-beaa0933aea5",
   "metadata": {},
   "source": [
    "Notice that `write()` did not automatically add a new line on that append. `write()` is fairly primitive, so if we want our lines to be, y'know, lines, we can either loop through, concatenating our string with `\"\\n\"`, or we can use the `.join()` trick to join a list of strings. Watch this:"
   ]
  },
  {
   "cell_type": "code",
   "execution_count": 7,
   "id": "da2b5592-d347-4388-a925-96347b61cb61",
   "metadata": {},
   "outputs": [
    {
     "data": {
      "text/plain": [
       "\"I'm written first\\nI'm written second\""
      ]
     },
     "execution_count": 7,
     "metadata": {},
     "output_type": "execute_result"
    }
   ],
   "source": [
    "# Join a list of strings with a newline as the separator\n",
    "\"\\n\".join([msg_1, msg_2])"
   ]
  },
  {
   "cell_type": "code",
   "execution_count": 8,
   "id": "cea24c64-2e62-4889-896e-d1ac6f068307",
   "metadata": {},
   "outputs": [
    {
     "name": "stdout",
     "output_type": "stream",
     "text": [
      "I'm written first\n",
      "I'm written second"
     ]
    }
   ],
   "source": [
    "# Use that .join() trick to write the file\n",
    "# Append to a file\n",
    "with open(\"example.txt\", \"w\") as f:\n",
    "    f.write(\"\\n\".join([msg_1, msg_2]))\n",
    "    \n",
    "!cat example.txt"
   ]
  },
  {
   "cell_type": "code",
   "execution_count": 9,
   "id": "8235db9c-469f-4ad5-8d87-418f57800912",
   "metadata": {},
   "outputs": [],
   "source": [
    "# Cleanup the example file\n",
    "! rm example.txt"
   ]
  },
  {
   "cell_type": "markdown",
   "id": "35ad60bc-6db7-4914-a3da-dab1ff49d9ac",
   "metadata": {},
   "source": [
    "## Check For Understanding\n",
    "\n",
    "In this check, you are given a list of names. You will do some things with them.\n",
    "\n",
    "### Objectives\n",
    "\n",
    "1. Write the list of names correctly (one on each line) to `names_1.txt` in this directory.\n",
    "2. Run `testme_1()` to check the file.\n",
    "3. Read in `names_2.txt` as a list of names without line breaks at the end. Send that list to `testme_2()`.\n",
    "4. Combine the original list of names with the loaded list from `names_2.txt` and append both to `names_3.txt`. Run `testme_3()` to check that file.\n",
    "\n",
    "Of course you could hardcode the solution. The only person you'd be cheating is yourself."
   ]
  },
  {
   "cell_type": "code",
   "execution_count": 10,
   "id": "c8f64cf7-1e3b-48a3-ae4b-65dd6198d9c5",
   "metadata": {},
   "outputs": [],
   "source": [
    "# Don't delete this!\n",
    "from testme import *\n",
    "\n",
    "# Your list of names\n",
    "names_1: str = [\n",
    "    \"Charles\",\n",
    "    \"Scott\",\n",
    "    \"Jean\",\n",
    "    \"Logan\",\n",
    "    \"Ororo\",\n",
    "    \"Remy\"\n",
    "]"
   ]
  },
  {
   "cell_type": "code",
   "execution_count": 15,
   "id": "0df3b77a-036b-415b-a4f0-76bc87bda810",
   "metadata": {},
   "outputs": [
    {
     "name": "stdout",
     "output_type": "stream",
     "text": [
      "[+] names_1.txt found!\n",
      "[+] File contents match!\n"
     ]
    }
   ],
   "source": [
    "# Write the list of names correctly (one on each line) to names_1.txt\n",
    "\n",
    "# Run testme_1()\n",
    "testme_1()"
   ]
  },
  {
   "cell_type": "code",
   "execution_count": 16,
   "id": "6c637e0f-47bd-4c39-8d5f-ccf1ed533b4a",
   "metadata": {},
   "outputs": [
    {
     "name": "stdout",
     "output_type": "stream",
     "text": [
      "[+] File contents match!\n"
     ]
    }
   ],
   "source": [
    "# Read in names_2.txt as a list of names without line breaks. \n",
    "\n",
    "# Send that to list to testme_2()\n",
    "testme_2(names_2)\n"
   ]
  },
  {
   "cell_type": "code",
   "execution_count": 17,
   "id": "0e51801d-7728-438a-85f9-18b020e9d8fd",
   "metadata": {},
   "outputs": [
    {
     "name": "stdout",
     "output_type": "stream",
     "text": [
      "[+] File contents match!\n"
     ]
    }
   ],
   "source": [
    "# Combine the original list of names with the loaded list from names_2.txt and write both to names_3.txt. Run testme_3() to check that file.\n",
    "\n",
    "testme_3()"
   ]
  },
  {
   "cell_type": "code",
   "execution_count": 18,
   "id": "256cb5f6-478a-41cd-88bb-822387d99d43",
   "metadata": {},
   "outputs": [],
   "source": [
    "# Need to reset the test files? Run this cell!\n",
    "\n",
    "reset()"
   ]
  }
 ],
 "metadata": {
  "kernelspec": {
   "display_name": "Python 3 (ipykernel)",
   "language": "python",
   "name": "python3"
  },
  "language_info": {
   "codemirror_mode": {
    "name": "ipython",
    "version": 3
   },
   "file_extension": ".py",
   "mimetype": "text/x-python",
   "name": "python",
   "nbconvert_exporter": "python",
   "pygments_lexer": "ipython3",
   "version": "3.10.6"
  }
 },
 "nbformat": 4,
 "nbformat_minor": 5
}
