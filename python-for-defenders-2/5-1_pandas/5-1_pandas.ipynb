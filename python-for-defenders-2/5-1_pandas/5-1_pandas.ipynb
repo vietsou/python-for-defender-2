{
 "cells": [
  {
   "cell_type": "markdown",
   "id": "aed7c4cc-c329-4881-bb5f-5f41ee45ba0d",
   "metadata": {},
   "source": [
    "# 5-1: Pandas\n",
    "\n",
    "No, not the useless overgrown rodents. [Pandas](https://pandas.pydata.org/) is an incredibly powerful data science library that allows deep statistical analysis on datasets through an easy-to-use API.\n",
    "\n",
    "The simplest way I can explain it is this: imagine if Excel had a command line interface.\n",
    "\n",
    "## Tabular Data\n",
    "\n",
    "The reason I chose Excel as our metaphor is that Pandas deals with **tabular data**—data represented in rows and columns, like a spreadsheet. It comes packed with tools to parse, filter, summarize, and analyze these rows and columns, far beyond what would be easily accomplishable in a GUI.\n",
    "\n",
    "To get started, we will need ourselves a dataset. I mentioned in the last lesson that Wappalyzer has a Python module. Let's use it to analyze some sites and collect the data!"
   ]
  },
  {
   "cell_type": "code",
   "execution_count": 14,
   "id": "07e8e03c-13fa-4a43-98e7-3b8f11659e06",
   "metadata": {},
   "outputs": [],
   "source": [
    "# Import our stuff\n",
    "# Pandas is conventionally named pd\n",
    "import pandas as pd\n",
    "from Wappalyzer import Wappalyzer, WebPage\n",
    "wappalyzer = Wappalyzer.latest()"
   ]
  },
  {
   "cell_type": "markdown",
   "id": "17fb44f8-252b-4e5b-b9b1-dfbec8853345",
   "metadata": {},
   "source": [
    "I'll use the list of sites from the last lesson, but feel free to modify it! It won't affect the run of this Notebook."
   ]
  },
  {
   "cell_type": "code",
   "execution_count": 12,
   "id": "f06d9883-8e28-4fbb-829f-ab578f26d819",
   "metadata": {},
   "outputs": [],
   "source": [
    "# Our sites to analyze\n",
    "sites = [\n",
    "    \"taggart-tech.com\",\n",
    "    \"shop.bbc.com\",\n",
    "    \"huffpost.com\",\n",
    "    \"discord.com\",\n",
    "    \"soundcloud.com\",\n",
    "    \"canva.com\"\n",
    "]"
   ]
  },
  {
   "cell_type": "markdown",
   "id": "0ba70452-86e5-4137-8676-d38f6f743fdc",
   "metadata": {},
   "source": [
    "And now, we will iterate over the sites, using Wappalyzer to generate data for us. We'll save our results in `sites_data`."
   ]
  },
  {
   "cell_type": "code",
   "execution_count": 13,
   "id": "6e73e649-ab03-4a20-a810-f68d4e78b578",
   "metadata": {},
   "outputs": [],
   "source": [
    "sites_data = {}\n",
    "for s in sites:\n",
    "    # Create a WebPage object first, then analyze it\n",
    "    webpage = WebPage.new_from_url(f\"https://{s}\")\n",
    "    # Assign the result to the URL key\n",
    "    sites_data[s] = wappalyzer.analyze_with_versions_and_categories(webpage)\n",
    "    "
   ]
  },
  {
   "cell_type": "markdown",
   "id": "de3f5523-faa6-4fa6-a7b7-df15fec3173b",
   "metadata": {},
   "source": [
    "Now let's understand the shape of our results. I'll review my site as an example."
   ]
  },
  {
   "cell_type": "code",
   "execution_count": 16,
   "id": "1c4842dc-a8e3-450e-87ff-639a095912ef",
   "metadata": {},
   "outputs": [
    {
     "data": {
      "text/plain": [
       "{'Nginx': {'versions': ['1.17.0'],\n",
       "  'categories': ['Web servers', 'Reverse proxies']},\n",
       " 'Google Font API': {'versions': [], 'categories': ['Font scripts']}}"
      ]
     },
     "execution_count": 16,
     "metadata": {},
     "output_type": "execute_result"
    }
   ],
   "source": [
    "sites_data[\"taggart-tech.com\"]"
   ]
  },
  {
   "cell_type": "markdown",
   "id": "17cf746b-6947-4496-9381-900fb9504efb",
   "metadata": {},
   "source": [
    "So it looks like every technology is its own key, with a dict containing `categories` and `versions`.\n",
    "\n",
    "Unfortunately, this isn't a very nice structure for use with Pandas. If you imagine what our rows/columns would be for this dataset, you might immediately think that each site should be a row. But then, are the technologies columns? What do the cells contain then? The entire dict? That's no good; we need to pull this part a bit more for usability.\n",
    "\n",
    "**Designing your data structure** is a critical part of using Jupyter/Pandas, because how you structure data will determine how easily you can manipulate it later.\n",
    "\n",
    "For this set, I might propose the following structure:\n",
    "\n",
    "Technology | Site | Categories | Versions\n",
    "--|--|--|--\n",
    "Nginx | taggart-tech.com | 'Web Servers, Reverse Proxies' | '1.17.0' \n",
    "\n",
    "So really, each technology is a row. We can use Pandas to isolate the tech from specific site(s) when necessary.\n",
    "\n",
    "You might notice the quotes around the `Categories` and `Versions` values—and that they're plural. This is a choice I'm making based on usability. Do I need a separate row for each category a technology is in? Not really. And there will almost always be only one version of a technology present. So instead of making new rows by splitting these lists up, I'll be making them a joint string with `\",\".join()`.\n",
    "\n",
    "That's not always the right call, but it makes sense for the shape of this data.\n",
    "\n",
    "Let's process `sites_data` into a brand new list of `dict`s called `dataframe_data`. A `DataFrame` is Pandas's top-level object, and what we're trying to easily create here. There are a lot of ways to create DataFrames, but a common one is to simply convert a list of same-shape `dict`s. That's what we'll do here.\n",
    "\n",
    "This has the added benefit of keeping the raw data around if we want it."
   ]
  },
  {
   "cell_type": "code",
   "execution_count": 28,
   "id": "e8003263-30be-4eaf-99f2-bf0dbc589907",
   "metadata": {},
   "outputs": [],
   "source": [
    "# Create empty list for new data\n",
    "dataframe_data = []\n",
    "\n",
    "# Loop through our data and create dicts based on our new structure\n",
    "for s in sites_data:\n",
    "    site = sites_data[s]\n",
    "    for t in site:\n",
    "        technology = site[t]\n",
    "        restructured_data = {\n",
    "            \"technology\": t,\n",
    "            \"site\": s,\n",
    "            \"categories\": \", \".join(technology[\"categories\"]),\n",
    "            \"versions\": \", \".join(technology[\"versions\"])\n",
    "        }\n",
    "        dataframe_data.append(restructured_data)\n"
   ]
  },
  {
   "cell_type": "markdown",
   "id": "5799b7f8-9393-41d4-b335-50ea3b6808e6",
   "metadata": {},
   "source": [
    "And now, we simply call the `DataFrame` constructor with our list!\n",
    "\n",
    "Conventionally, primary `DataFrame`s are named `df`, but don't have to be."
   ]
  },
  {
   "cell_type": "code",
   "execution_count": 29,
   "id": "a5143dc4-66c9-4771-b8eb-1458d6b1bc12",
   "metadata": {},
   "outputs": [],
   "source": [
    "# Create our new DataFrame\n",
    "df = pd.DataFrame(dataframe_data)"
   ]
  },
  {
   "cell_type": "code",
   "execution_count": 30,
   "id": "8ee8cf3b-8907-452e-acea-035f1f840daa",
   "metadata": {},
   "outputs": [
    {
     "data": {
      "text/html": [
       "<div>\n",
       "<style scoped>\n",
       "    .dataframe tbody tr th:only-of-type {\n",
       "        vertical-align: middle;\n",
       "    }\n",
       "\n",
       "    .dataframe tbody tr th {\n",
       "        vertical-align: top;\n",
       "    }\n",
       "\n",
       "    .dataframe thead th {\n",
       "        text-align: right;\n",
       "    }\n",
       "</style>\n",
       "<table border=\"1\" class=\"dataframe\">\n",
       "  <thead>\n",
       "    <tr style=\"text-align: right;\">\n",
       "      <th></th>\n",
       "      <th>technology</th>\n",
       "      <th>site</th>\n",
       "      <th>categories</th>\n",
       "      <th>versions</th>\n",
       "    </tr>\n",
       "  </thead>\n",
       "  <tbody>\n",
       "    <tr>\n",
       "      <th>0</th>\n",
       "      <td>Nginx</td>\n",
       "      <td>taggart-tech.com</td>\n",
       "      <td>Web servers, Reverse proxies</td>\n",
       "      <td>1.17.0</td>\n",
       "    </tr>\n",
       "    <tr>\n",
       "      <th>1</th>\n",
       "      <td>Google Font API</td>\n",
       "      <td>taggart-tech.com</td>\n",
       "      <td>Font scripts</td>\n",
       "      <td></td>\n",
       "    </tr>\n",
       "    <tr>\n",
       "      <th>2</th>\n",
       "      <td>jQuery</td>\n",
       "      <td>shop.bbc.com</td>\n",
       "      <td>JavaScript libraries</td>\n",
       "      <td>3.4.1</td>\n",
       "    </tr>\n",
       "    <tr>\n",
       "      <th>3</th>\n",
       "      <td>Apple Pay</td>\n",
       "      <td>shop.bbc.com</td>\n",
       "      <td>Payment processors</td>\n",
       "      <td></td>\n",
       "    </tr>\n",
       "    <tr>\n",
       "      <th>4</th>\n",
       "      <td>Venmo</td>\n",
       "      <td>shop.bbc.com</td>\n",
       "      <td>Payment processors</td>\n",
       "      <td></td>\n",
       "    </tr>\n",
       "  </tbody>\n",
       "</table>\n",
       "</div>"
      ],
      "text/plain": [
       "        technology              site                    categories versions\n",
       "0            Nginx  taggart-tech.com  Web servers, Reverse proxies   1.17.0\n",
       "1  Google Font API  taggart-tech.com                  Font scripts         \n",
       "2           jQuery      shop.bbc.com          JavaScript libraries    3.4.1\n",
       "3        Apple Pay      shop.bbc.com            Payment processors         \n",
       "4            Venmo      shop.bbc.com            Payment processors         "
      ]
     },
     "execution_count": 30,
     "metadata": {},
     "output_type": "execute_result"
    }
   ],
   "source": [
    "# Look at the top of it with the built-in `.head()` method\n",
    "df.head()"
   ]
  },
  {
   "cell_type": "markdown",
   "id": "3a0b7908-1905-42d7-868c-70cd0a16f9db",
   "metadata": {},
   "source": [
    "Now we won't go over the details of `DataFrame` manipulation, but let's say we wanted to find all the Payment processors. We could try something like:"
   ]
  },
  {
   "cell_type": "code",
   "execution_count": 31,
   "id": "0f6278f2-3eaf-46aa-afcd-c46930ba54b9",
   "metadata": {},
   "outputs": [
    {
     "data": {
      "text/html": [
       "<div>\n",
       "<style scoped>\n",
       "    .dataframe tbody tr th:only-of-type {\n",
       "        vertical-align: middle;\n",
       "    }\n",
       "\n",
       "    .dataframe tbody tr th {\n",
       "        vertical-align: top;\n",
       "    }\n",
       "\n",
       "    .dataframe thead th {\n",
       "        text-align: right;\n",
       "    }\n",
       "</style>\n",
       "<table border=\"1\" class=\"dataframe\">\n",
       "  <thead>\n",
       "    <tr style=\"text-align: right;\">\n",
       "      <th></th>\n",
       "      <th>technology</th>\n",
       "      <th>site</th>\n",
       "      <th>categories</th>\n",
       "      <th>versions</th>\n",
       "    </tr>\n",
       "  </thead>\n",
       "  <tbody>\n",
       "    <tr>\n",
       "      <th>3</th>\n",
       "      <td>Apple Pay</td>\n",
       "      <td>shop.bbc.com</td>\n",
       "      <td>Payment processors</td>\n",
       "      <td></td>\n",
       "    </tr>\n",
       "    <tr>\n",
       "      <th>4</th>\n",
       "      <td>Venmo</td>\n",
       "      <td>shop.bbc.com</td>\n",
       "      <td>Payment processors</td>\n",
       "      <td></td>\n",
       "    </tr>\n",
       "    <tr>\n",
       "      <th>6</th>\n",
       "      <td>American Express</td>\n",
       "      <td>shop.bbc.com</td>\n",
       "      <td>Payment processors</td>\n",
       "      <td></td>\n",
       "    </tr>\n",
       "    <tr>\n",
       "      <th>9</th>\n",
       "      <td>Amazon Pay</td>\n",
       "      <td>shop.bbc.com</td>\n",
       "      <td>Payment processors</td>\n",
       "      <td></td>\n",
       "    </tr>\n",
       "    <tr>\n",
       "      <th>10</th>\n",
       "      <td>Shop Pay</td>\n",
       "      <td>shop.bbc.com</td>\n",
       "      <td>Payment processors</td>\n",
       "      <td></td>\n",
       "    </tr>\n",
       "    <tr>\n",
       "      <th>11</th>\n",
       "      <td>Google Pay</td>\n",
       "      <td>shop.bbc.com</td>\n",
       "      <td>Payment processors</td>\n",
       "      <td></td>\n",
       "    </tr>\n",
       "    <tr>\n",
       "      <th>12</th>\n",
       "      <td>Visa</td>\n",
       "      <td>shop.bbc.com</td>\n",
       "      <td>Payment processors</td>\n",
       "      <td></td>\n",
       "    </tr>\n",
       "  </tbody>\n",
       "</table>\n",
       "</div>"
      ],
      "text/plain": [
       "          technology          site          categories versions\n",
       "3          Apple Pay  shop.bbc.com  Payment processors         \n",
       "4              Venmo  shop.bbc.com  Payment processors         \n",
       "6   American Express  shop.bbc.com  Payment processors         \n",
       "9         Amazon Pay  shop.bbc.com  Payment processors         \n",
       "10          Shop Pay  shop.bbc.com  Payment processors         \n",
       "11        Google Pay  shop.bbc.com  Payment processors         \n",
       "12              Visa  shop.bbc.com  Payment processors         "
      ]
     },
     "execution_count": 31,
     "metadata": {},
     "output_type": "execute_result"
    }
   ],
   "source": [
    "df.query(\"'Payment processors' in categories\")"
   ]
  },
  {
   "cell_type": "markdown",
   "id": "cf415432-b3f3-4bb6-a700-89d59a46fcb9",
   "metadata": {},
   "source": [
    "Or everything from a specific site?"
   ]
  },
  {
   "cell_type": "code",
   "execution_count": 32,
   "id": "f978db9e-2bbe-4011-9924-25337a61ab50",
   "metadata": {},
   "outputs": [
    {
     "data": {
      "text/html": [
       "<div>\n",
       "<style scoped>\n",
       "    .dataframe tbody tr th:only-of-type {\n",
       "        vertical-align: middle;\n",
       "    }\n",
       "\n",
       "    .dataframe tbody tr th {\n",
       "        vertical-align: top;\n",
       "    }\n",
       "\n",
       "    .dataframe thead th {\n",
       "        text-align: right;\n",
       "    }\n",
       "</style>\n",
       "<table border=\"1\" class=\"dataframe\">\n",
       "  <thead>\n",
       "    <tr style=\"text-align: right;\">\n",
       "      <th></th>\n",
       "      <th>technology</th>\n",
       "      <th>site</th>\n",
       "      <th>categories</th>\n",
       "      <th>versions</th>\n",
       "    </tr>\n",
       "  </thead>\n",
       "  <tbody>\n",
       "    <tr>\n",
       "      <th>0</th>\n",
       "      <td>Nginx</td>\n",
       "      <td>taggart-tech.com</td>\n",
       "      <td>Web servers, Reverse proxies</td>\n",
       "      <td>1.17.0</td>\n",
       "    </tr>\n",
       "    <tr>\n",
       "      <th>1</th>\n",
       "      <td>Google Font API</td>\n",
       "      <td>taggart-tech.com</td>\n",
       "      <td>Font scripts</td>\n",
       "      <td></td>\n",
       "    </tr>\n",
       "  </tbody>\n",
       "</table>\n",
       "</div>"
      ],
      "text/plain": [
       "        technology              site                    categories versions\n",
       "0            Nginx  taggart-tech.com  Web servers, Reverse proxies   1.17.0\n",
       "1  Google Font API  taggart-tech.com                  Font scripts         "
      ]
     },
     "execution_count": 32,
     "metadata": {},
     "output_type": "execute_result"
    }
   ],
   "source": [
    "df.query(\"site == 'taggart-tech.com'\")"
   ]
  },
  {
   "cell_type": "markdown",
   "id": "db2204e2-ff05-4e43-892c-7a299a75842b",
   "metadata": {},
   "source": [
    "There is so much to explore in DataFrames, and we're going to dive in for real in the next lesson. This was meant as a quick intro to the concept of using Pandas and how to consider shaping our data to be useful in tables. \n",
    "\n",
    "See you in the next lesson where we'll get serious about Pandas!"
   ]
  }
 ],
 "metadata": {
  "kernelspec": {
   "display_name": "Python 3 (ipykernel)",
   "language": "python",
   "name": "python3"
  },
  "language_info": {
   "codemirror_mode": {
    "name": "ipython",
    "version": 3
   },
   "file_extension": ".py",
   "mimetype": "text/x-python",
   "name": "python",
   "nbconvert_exporter": "python",
   "pygments_lexer": "ipython3",
   "version": "3.10.6"
  }
 },
 "nbformat": 4,
 "nbformat_minor": 5
}
